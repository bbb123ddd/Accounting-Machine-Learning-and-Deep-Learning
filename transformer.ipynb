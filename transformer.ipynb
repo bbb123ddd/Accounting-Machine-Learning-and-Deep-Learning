{
  "nbformat": 4,
  "nbformat_minor": 0,
  "metadata": {
    "colab": {
      "provenance": [],
      "gpuType": "T4"
    },
    "kernelspec": {
      "name": "python3",
      "display_name": "Python 3"
    },
    "language_info": {
      "name": "python"
    },
    "accelerator": "GPU"
  },
  "cells": [
    {
      "cell_type": "markdown",
      "source": [
        "# 1. 必要なライブラリをインポート"
      ],
      "metadata": {
        "id": "7XzlZ7Qfl447"
      }
    },
    {
      "cell_type": "code",
      "execution_count": 1,
      "metadata": {
        "id": "5P3HxbpwlahH"
      },
      "outputs": [],
      "source": [
        "import numpy as np\n",
        "import pandas as pd\n",
        "import matplotlib.pyplot as plt\n",
        "from tensorflow.keras import layers, models\n",
        "from tensorflow.keras.models import Sequential\n",
        "from tensorflow.keras.layers import Dense\n",
        "import tensorflow as tf"
      ]
    },
    {
      "cell_type": "markdown",
      "source": [
        "# 2. データの読み込み（Excelファイル）"
      ],
      "metadata": {
        "id": "itc3WmiUmY6j"
      }
    },
    {
      "cell_type": "code",
      "source": [
        "from google.colab import drive\n",
        "drive.mount('/content/drive')\n",
        "\n",
        "file_path = \"/content/drive/My Drive/github/利益予測データベース.xlsx\"\n",
        "df = pd.read_excel(file_path)\n",
        "df.head(5)"
      ],
      "metadata": {
        "colab": {
          "base_uri": "https://localhost:8080/",
          "height": 273
        },
        "id": "oW0WPQE3mb3p",
        "outputId": "97fe7b7f-e139-475d-ee17-b946c2190afa"
      },
      "execution_count": 2,
      "outputs": [
        {
          "output_type": "stream",
          "name": "stdout",
          "text": [
            "Drive already mounted at /content/drive; to attempt to forcibly remount, call drive.mount(\"/content/drive\", force_remount=True).\n"
          ]
        },
        {
          "output_type": "execute_result",
          "data": {
            "text/plain": [
              "           sample  group      ni_t     ni_t1     ni_t2     ni_t3     ni_t4  \\\n",
              "0  201003N0000001      1  0.053142  0.077657  0.073253  0.097867  0.098210   \n",
              "1  200903N0000001      1  0.083942  0.079182  0.105787  0.106157  0.073416   \n",
              "2  200803N0000001      1  0.052085  0.069586  0.069830  0.048293  0.043422   \n",
              "3  200703N0000001      1  0.060600  0.060812  0.042056  0.037814  0.033996   \n",
              "4  200603N0000001      1  0.080197  0.055463  0.049869  0.044834  0.040998   \n",
              "\n",
              "      ni_t5   cy_e_t1  cy_sale_t1  ...  cy_iva_c_t1  cy_intan_c_t1  \\\n",
              "0  0.067920  0.077657    7.220336  ...    -0.025984       0.009102   \n",
              "1  0.066011  0.079182    7.815907  ...    -0.073469       0.002539   \n",
              "2  0.039038  0.069586    5.465569  ...    -0.083399       0.000139   \n",
              "3  0.031088  0.060812    4.632824  ...     0.105868       0.005575   \n",
              "4  0.037042  0.055463    6.099235  ...    -0.012547       0.000679   \n",
              "\n",
              "   cy_ap_c_t1  cy_dlc_c_t1  cy_txp_c_t1  cy_dltt_c_t1  cy_re_c_t1  \\\n",
              "0    0.008368     0.135497    -0.011255      0.035526    0.051674   \n",
              "1   -0.052206    -0.333652     0.020470     -0.017614    0.044907   \n",
              "2   -0.056052     0.133675     0.000974     -0.031488    0.049406   \n",
              "3    0.039057     0.072174    -0.004606     -0.052934    0.043632   \n",
              "4    0.018461    -0.114562     0.001758      0.075842    0.035723   \n",
              "\n",
              "   cy_cfo_c_t1  ni_t_mgt  afe_t_mgt  \n",
              "0    -0.339696  0.088080   0.034939  \n",
              "1     0.587329  0.079340   0.004602  \n",
              "2    -0.105840  0.066107   0.014022  \n",
              "3     0.004212  0.075750   0.015150  \n",
              "4    -0.049469  0.083914   0.003716  \n",
              "\n",
              "[5 rows x 68 columns]"
            ],
            "text/html": [
              "\n",
              "  <div id=\"df-6810df94-f3bb-4554-91d7-c56c10eb854d\" class=\"colab-df-container\">\n",
              "    <div>\n",
              "<style scoped>\n",
              "    .dataframe tbody tr th:only-of-type {\n",
              "        vertical-align: middle;\n",
              "    }\n",
              "\n",
              "    .dataframe tbody tr th {\n",
              "        vertical-align: top;\n",
              "    }\n",
              "\n",
              "    .dataframe thead th {\n",
              "        text-align: right;\n",
              "    }\n",
              "</style>\n",
              "<table border=\"1\" class=\"dataframe\">\n",
              "  <thead>\n",
              "    <tr style=\"text-align: right;\">\n",
              "      <th></th>\n",
              "      <th>sample</th>\n",
              "      <th>group</th>\n",
              "      <th>ni_t</th>\n",
              "      <th>ni_t1</th>\n",
              "      <th>ni_t2</th>\n",
              "      <th>ni_t3</th>\n",
              "      <th>ni_t4</th>\n",
              "      <th>ni_t5</th>\n",
              "      <th>cy_e_t1</th>\n",
              "      <th>cy_sale_t1</th>\n",
              "      <th>...</th>\n",
              "      <th>cy_iva_c_t1</th>\n",
              "      <th>cy_intan_c_t1</th>\n",
              "      <th>cy_ap_c_t1</th>\n",
              "      <th>cy_dlc_c_t1</th>\n",
              "      <th>cy_txp_c_t1</th>\n",
              "      <th>cy_dltt_c_t1</th>\n",
              "      <th>cy_re_c_t1</th>\n",
              "      <th>cy_cfo_c_t1</th>\n",
              "      <th>ni_t_mgt</th>\n",
              "      <th>afe_t_mgt</th>\n",
              "    </tr>\n",
              "  </thead>\n",
              "  <tbody>\n",
              "    <tr>\n",
              "      <th>0</th>\n",
              "      <td>201003N0000001</td>\n",
              "      <td>1</td>\n",
              "      <td>0.053142</td>\n",
              "      <td>0.077657</td>\n",
              "      <td>0.073253</td>\n",
              "      <td>0.097867</td>\n",
              "      <td>0.098210</td>\n",
              "      <td>0.067920</td>\n",
              "      <td>0.077657</td>\n",
              "      <td>7.220336</td>\n",
              "      <td>...</td>\n",
              "      <td>-0.025984</td>\n",
              "      <td>0.009102</td>\n",
              "      <td>0.008368</td>\n",
              "      <td>0.135497</td>\n",
              "      <td>-0.011255</td>\n",
              "      <td>0.035526</td>\n",
              "      <td>0.051674</td>\n",
              "      <td>-0.339696</td>\n",
              "      <td>0.088080</td>\n",
              "      <td>0.034939</td>\n",
              "    </tr>\n",
              "    <tr>\n",
              "      <th>1</th>\n",
              "      <td>200903N0000001</td>\n",
              "      <td>1</td>\n",
              "      <td>0.083942</td>\n",
              "      <td>0.079182</td>\n",
              "      <td>0.105787</td>\n",
              "      <td>0.106157</td>\n",
              "      <td>0.073416</td>\n",
              "      <td>0.066011</td>\n",
              "      <td>0.079182</td>\n",
              "      <td>7.815907</td>\n",
              "      <td>...</td>\n",
              "      <td>-0.073469</td>\n",
              "      <td>0.002539</td>\n",
              "      <td>-0.052206</td>\n",
              "      <td>-0.333652</td>\n",
              "      <td>0.020470</td>\n",
              "      <td>-0.017614</td>\n",
              "      <td>0.044907</td>\n",
              "      <td>0.587329</td>\n",
              "      <td>0.079340</td>\n",
              "      <td>0.004602</td>\n",
              "    </tr>\n",
              "    <tr>\n",
              "      <th>2</th>\n",
              "      <td>200803N0000001</td>\n",
              "      <td>1</td>\n",
              "      <td>0.052085</td>\n",
              "      <td>0.069586</td>\n",
              "      <td>0.069830</td>\n",
              "      <td>0.048293</td>\n",
              "      <td>0.043422</td>\n",
              "      <td>0.039038</td>\n",
              "      <td>0.069586</td>\n",
              "      <td>5.465569</td>\n",
              "      <td>...</td>\n",
              "      <td>-0.083399</td>\n",
              "      <td>0.000139</td>\n",
              "      <td>-0.056052</td>\n",
              "      <td>0.133675</td>\n",
              "      <td>0.000974</td>\n",
              "      <td>-0.031488</td>\n",
              "      <td>0.049406</td>\n",
              "      <td>-0.105840</td>\n",
              "      <td>0.066107</td>\n",
              "      <td>0.014022</td>\n",
              "    </tr>\n",
              "    <tr>\n",
              "      <th>3</th>\n",
              "      <td>200703N0000001</td>\n",
              "      <td>1</td>\n",
              "      <td>0.060600</td>\n",
              "      <td>0.060812</td>\n",
              "      <td>0.042056</td>\n",
              "      <td>0.037814</td>\n",
              "      <td>0.033996</td>\n",
              "      <td>0.031088</td>\n",
              "      <td>0.060812</td>\n",
              "      <td>4.632824</td>\n",
              "      <td>...</td>\n",
              "      <td>0.105868</td>\n",
              "      <td>0.005575</td>\n",
              "      <td>0.039057</td>\n",
              "      <td>0.072174</td>\n",
              "      <td>-0.004606</td>\n",
              "      <td>-0.052934</td>\n",
              "      <td>0.043632</td>\n",
              "      <td>0.004212</td>\n",
              "      <td>0.075750</td>\n",
              "      <td>0.015150</td>\n",
              "    </tr>\n",
              "    <tr>\n",
              "      <th>4</th>\n",
              "      <td>200603N0000001</td>\n",
              "      <td>1</td>\n",
              "      <td>0.080197</td>\n",
              "      <td>0.055463</td>\n",
              "      <td>0.049869</td>\n",
              "      <td>0.044834</td>\n",
              "      <td>0.040998</td>\n",
              "      <td>0.037042</td>\n",
              "      <td>0.055463</td>\n",
              "      <td>6.099235</td>\n",
              "      <td>...</td>\n",
              "      <td>-0.012547</td>\n",
              "      <td>0.000679</td>\n",
              "      <td>0.018461</td>\n",
              "      <td>-0.114562</td>\n",
              "      <td>0.001758</td>\n",
              "      <td>0.075842</td>\n",
              "      <td>0.035723</td>\n",
              "      <td>-0.049469</td>\n",
              "      <td>0.083914</td>\n",
              "      <td>0.003716</td>\n",
              "    </tr>\n",
              "  </tbody>\n",
              "</table>\n",
              "<p>5 rows × 68 columns</p>\n",
              "</div>\n",
              "    <div class=\"colab-df-buttons\">\n",
              "\n",
              "  <div class=\"colab-df-container\">\n",
              "    <button class=\"colab-df-convert\" onclick=\"convertToInteractive('df-6810df94-f3bb-4554-91d7-c56c10eb854d')\"\n",
              "            title=\"Convert this dataframe to an interactive table.\"\n",
              "            style=\"display:none;\">\n",
              "\n",
              "  <svg xmlns=\"http://www.w3.org/2000/svg\" height=\"24px\" viewBox=\"0 -960 960 960\">\n",
              "    <path d=\"M120-120v-720h720v720H120Zm60-500h600v-160H180v160Zm220 220h160v-160H400v160Zm0 220h160v-160H400v160ZM180-400h160v-160H180v160Zm440 0h160v-160H620v160ZM180-180h160v-160H180v160Zm440 0h160v-160H620v160Z\"/>\n",
              "  </svg>\n",
              "    </button>\n",
              "\n",
              "  <style>\n",
              "    .colab-df-container {\n",
              "      display:flex;\n",
              "      gap: 12px;\n",
              "    }\n",
              "\n",
              "    .colab-df-convert {\n",
              "      background-color: #E8F0FE;\n",
              "      border: none;\n",
              "      border-radius: 50%;\n",
              "      cursor: pointer;\n",
              "      display: none;\n",
              "      fill: #1967D2;\n",
              "      height: 32px;\n",
              "      padding: 0 0 0 0;\n",
              "      width: 32px;\n",
              "    }\n",
              "\n",
              "    .colab-df-convert:hover {\n",
              "      background-color: #E2EBFA;\n",
              "      box-shadow: 0px 1px 2px rgba(60, 64, 67, 0.3), 0px 1px 3px 1px rgba(60, 64, 67, 0.15);\n",
              "      fill: #174EA6;\n",
              "    }\n",
              "\n",
              "    .colab-df-buttons div {\n",
              "      margin-bottom: 4px;\n",
              "    }\n",
              "\n",
              "    [theme=dark] .colab-df-convert {\n",
              "      background-color: #3B4455;\n",
              "      fill: #D2E3FC;\n",
              "    }\n",
              "\n",
              "    [theme=dark] .colab-df-convert:hover {\n",
              "      background-color: #434B5C;\n",
              "      box-shadow: 0px 1px 3px 1px rgba(0, 0, 0, 0.15);\n",
              "      filter: drop-shadow(0px 1px 2px rgba(0, 0, 0, 0.3));\n",
              "      fill: #FFFFFF;\n",
              "    }\n",
              "  </style>\n",
              "\n",
              "    <script>\n",
              "      const buttonEl =\n",
              "        document.querySelector('#df-6810df94-f3bb-4554-91d7-c56c10eb854d button.colab-df-convert');\n",
              "      buttonEl.style.display =\n",
              "        google.colab.kernel.accessAllowed ? 'block' : 'none';\n",
              "\n",
              "      async function convertToInteractive(key) {\n",
              "        const element = document.querySelector('#df-6810df94-f3bb-4554-91d7-c56c10eb854d');\n",
              "        const dataTable =\n",
              "          await google.colab.kernel.invokeFunction('convertToInteractive',\n",
              "                                                    [key], {});\n",
              "        if (!dataTable) return;\n",
              "\n",
              "        const docLinkHtml = 'Like what you see? Visit the ' +\n",
              "          '<a target=\"_blank\" href=https://colab.research.google.com/notebooks/data_table.ipynb>data table notebook</a>'\n",
              "          + ' to learn more about interactive tables.';\n",
              "        element.innerHTML = '';\n",
              "        dataTable['output_type'] = 'display_data';\n",
              "        await google.colab.output.renderOutput(dataTable, element);\n",
              "        const docLink = document.createElement('div');\n",
              "        docLink.innerHTML = docLinkHtml;\n",
              "        element.appendChild(docLink);\n",
              "      }\n",
              "    </script>\n",
              "  </div>\n",
              "\n",
              "\n",
              "    <div id=\"df-f5cc44c2-6ef3-4239-bfb5-71d9bde8a415\">\n",
              "      <button class=\"colab-df-quickchart\" onclick=\"quickchart('df-f5cc44c2-6ef3-4239-bfb5-71d9bde8a415')\"\n",
              "                title=\"Suggest charts\"\n",
              "                style=\"display:none;\">\n",
              "\n",
              "<svg xmlns=\"http://www.w3.org/2000/svg\" height=\"24px\"viewBox=\"0 0 24 24\"\n",
              "     width=\"24px\">\n",
              "    <g>\n",
              "        <path d=\"M19 3H5c-1.1 0-2 .9-2 2v14c0 1.1.9 2 2 2h14c1.1 0 2-.9 2-2V5c0-1.1-.9-2-2-2zM9 17H7v-7h2v7zm4 0h-2V7h2v10zm4 0h-2v-4h2v4z\"/>\n",
              "    </g>\n",
              "</svg>\n",
              "      </button>\n",
              "\n",
              "<style>\n",
              "  .colab-df-quickchart {\n",
              "      --bg-color: #E8F0FE;\n",
              "      --fill-color: #1967D2;\n",
              "      --hover-bg-color: #E2EBFA;\n",
              "      --hover-fill-color: #174EA6;\n",
              "      --disabled-fill-color: #AAA;\n",
              "      --disabled-bg-color: #DDD;\n",
              "  }\n",
              "\n",
              "  [theme=dark] .colab-df-quickchart {\n",
              "      --bg-color: #3B4455;\n",
              "      --fill-color: #D2E3FC;\n",
              "      --hover-bg-color: #434B5C;\n",
              "      --hover-fill-color: #FFFFFF;\n",
              "      --disabled-bg-color: #3B4455;\n",
              "      --disabled-fill-color: #666;\n",
              "  }\n",
              "\n",
              "  .colab-df-quickchart {\n",
              "    background-color: var(--bg-color);\n",
              "    border: none;\n",
              "    border-radius: 50%;\n",
              "    cursor: pointer;\n",
              "    display: none;\n",
              "    fill: var(--fill-color);\n",
              "    height: 32px;\n",
              "    padding: 0;\n",
              "    width: 32px;\n",
              "  }\n",
              "\n",
              "  .colab-df-quickchart:hover {\n",
              "    background-color: var(--hover-bg-color);\n",
              "    box-shadow: 0 1px 2px rgba(60, 64, 67, 0.3), 0 1px 3px 1px rgba(60, 64, 67, 0.15);\n",
              "    fill: var(--button-hover-fill-color);\n",
              "  }\n",
              "\n",
              "  .colab-df-quickchart-complete:disabled,\n",
              "  .colab-df-quickchart-complete:disabled:hover {\n",
              "    background-color: var(--disabled-bg-color);\n",
              "    fill: var(--disabled-fill-color);\n",
              "    box-shadow: none;\n",
              "  }\n",
              "\n",
              "  .colab-df-spinner {\n",
              "    border: 2px solid var(--fill-color);\n",
              "    border-color: transparent;\n",
              "    border-bottom-color: var(--fill-color);\n",
              "    animation:\n",
              "      spin 1s steps(1) infinite;\n",
              "  }\n",
              "\n",
              "  @keyframes spin {\n",
              "    0% {\n",
              "      border-color: transparent;\n",
              "      border-bottom-color: var(--fill-color);\n",
              "      border-left-color: var(--fill-color);\n",
              "    }\n",
              "    20% {\n",
              "      border-color: transparent;\n",
              "      border-left-color: var(--fill-color);\n",
              "      border-top-color: var(--fill-color);\n",
              "    }\n",
              "    30% {\n",
              "      border-color: transparent;\n",
              "      border-left-color: var(--fill-color);\n",
              "      border-top-color: var(--fill-color);\n",
              "      border-right-color: var(--fill-color);\n",
              "    }\n",
              "    40% {\n",
              "      border-color: transparent;\n",
              "      border-right-color: var(--fill-color);\n",
              "      border-top-color: var(--fill-color);\n",
              "    }\n",
              "    60% {\n",
              "      border-color: transparent;\n",
              "      border-right-color: var(--fill-color);\n",
              "    }\n",
              "    80% {\n",
              "      border-color: transparent;\n",
              "      border-right-color: var(--fill-color);\n",
              "      border-bottom-color: var(--fill-color);\n",
              "    }\n",
              "    90% {\n",
              "      border-color: transparent;\n",
              "      border-bottom-color: var(--fill-color);\n",
              "    }\n",
              "  }\n",
              "</style>\n",
              "\n",
              "      <script>\n",
              "        async function quickchart(key) {\n",
              "          const quickchartButtonEl =\n",
              "            document.querySelector('#' + key + ' button');\n",
              "          quickchartButtonEl.disabled = true;  // To prevent multiple clicks.\n",
              "          quickchartButtonEl.classList.add('colab-df-spinner');\n",
              "          try {\n",
              "            const charts = await google.colab.kernel.invokeFunction(\n",
              "                'suggestCharts', [key], {});\n",
              "          } catch (error) {\n",
              "            console.error('Error during call to suggestCharts:', error);\n",
              "          }\n",
              "          quickchartButtonEl.classList.remove('colab-df-spinner');\n",
              "          quickchartButtonEl.classList.add('colab-df-quickchart-complete');\n",
              "        }\n",
              "        (() => {\n",
              "          let quickchartButtonEl =\n",
              "            document.querySelector('#df-f5cc44c2-6ef3-4239-bfb5-71d9bde8a415 button');\n",
              "          quickchartButtonEl.style.display =\n",
              "            google.colab.kernel.accessAllowed ? 'block' : 'none';\n",
              "        })();\n",
              "      </script>\n",
              "    </div>\n",
              "\n",
              "    </div>\n",
              "  </div>\n"
            ],
            "application/vnd.google.colaboratory.intrinsic+json": {
              "type": "dataframe",
              "variable_name": "df"
            }
          },
          "metadata": {},
          "execution_count": 2
        }
      ]
    },
    {
      "cell_type": "markdown",
      "source": [
        "# 3. データ分割"
      ],
      "metadata": {
        "id": "jLUiGN-Mqz7m"
      }
    },
    {
      "cell_type": "code",
      "source": [
        "# 'df' (DataFrame) をNumPy配列に変換します\n",
        "data = df.values"
      ],
      "metadata": {
        "id": "0Bv_ByH1q4DY"
      },
      "execution_count": 3,
      "outputs": []
    },
    {
      "cell_type": "code",
      "source": [
        "# CYのみ\n",
        "x_train = data[:, 8:66][data[:, 1] == 1]\n",
        "y_train = data[:, 2][data[:, 1] == 1]\n",
        "x_test = data[:, 8:66][data[:, 1] == 2]\n",
        "y_test = data[:, 2][data[:, 1] == 2]\n",
        "# - 列0: sample ID（分析に不要）\n",
        "# - 列1: group（分割ぶんかつ用、特徴量ではない）\n",
        "# group=1: モデル学習用データ（訓練データ）group=2: モデル評価用データ（テストデータ）\n",
        "# - 列2: ni_t（予測対象、yとして使用）\n",
        "# - 列3-7: ni_t1~ni_t5（過去の純利益、今回は使わない）\n",
        "# - 列8-65: CY財務指標（Current Year、今期のデータ）← これを使用！\n",
        "# - 列66-67: 経営者予測（今回は使わない）\n",
        "\n",
        "# データの形状を確認\n",
        "print(f\"訓練データの特徴量: {x_train.shape}\")\n",
        "print(f\"訓練データのラベル: {y_train.shape}\")\n",
        "print(f\"テストデータの特徴量: {x_test.shape}\")\n",
        "print(f\"テストデータのラベル: {y_test.shape}\")"
      ],
      "metadata": {
        "colab": {
          "base_uri": "https://localhost:8080/"
        },
        "id": "weNuyYe3rMXN",
        "outputId": "ce39c428-4ecb-4abe-aac4-7b0bcc8fc240"
      },
      "execution_count": 4,
      "outputs": [
        {
          "output_type": "stream",
          "name": "stdout",
          "text": [
            "訓練データの特徴量: (27011, 58)\n",
            "訓練データのラベル: (27011,)\n",
            "テストデータの特徴量: (24008, 58)\n",
            "テストデータのラベル: (24008,)\n"
          ]
        }
      ]
    },
    {
      "cell_type": "code",
      "source": [
        "# Easton+CY\n",
        "\"\"\"\n",
        "x_train = data[:, 3:66][data[:, 1] == 1]\n",
        "y_train = data[:, 2][data[:, 1] == 1]\n",
        "x_test = data[:, 3:66][data[:, 1] == 2]\n",
        "y_test = data[:, 2][data[:, 1] == 2]\n",
        "\"\"\""
      ],
      "metadata": {
        "colab": {
          "base_uri": "https://localhost:8080/",
          "height": 53
        },
        "id": "ckKcsU7Uq4v6",
        "outputId": "fb12cd7e-ee32-464b-9539-e4d46b43d44f"
      },
      "execution_count": 5,
      "outputs": [
        {
          "output_type": "execute_result",
          "data": {
            "text/plain": [
              "'\\nx_train = data[:, 3:66][data[:, 1] == 1]\\ny_train = data[:, 2][data[:, 1] == 1]\\nx_test = data[:, 3:66][data[:, 1] == 2]\\ny_test = data[:, 2][data[:, 1] == 2]\\n'"
            ],
            "application/vnd.google.colaboratory.intrinsic+json": {
              "type": "string"
            }
          },
          "metadata": {},
          "execution_count": 5
        }
      ]
    },
    {
      "cell_type": "code",
      "source": [
        "# Easton 4dimのみ\n",
        "\"\"\"\n",
        "x_train = data[:, 3:7][data[:, 1] == 1]\n",
        "y_train = data[:, 2][data[:, 1] == 1]\n",
        "x_test = data[:, 3:7][data[:, 1] == 2]\n",
        "y_test = data[:, 2][data[:, 1] == 2]\n",
        "\"\"\""
      ],
      "metadata": {
        "colab": {
          "base_uri": "https://localhost:8080/",
          "height": 53
        },
        "id": "3vpJVdF1rPze",
        "outputId": "ae0873ea-05a7-4686-883f-e2ac1cfde7a0"
      },
      "execution_count": 6,
      "outputs": [
        {
          "output_type": "execute_result",
          "data": {
            "text/plain": [
              "'\\nx_train = data[:, 3:7][data[:, 1] == 1]\\ny_train = data[:, 2][data[:, 1] == 1]\\nx_test = data[:, 3:7][data[:, 1] == 2]\\ny_test = data[:, 2][data[:, 1] == 2]\\n'"
            ],
            "application/vnd.google.colaboratory.intrinsic+json": {
              "type": "string"
            }
          },
          "metadata": {},
          "execution_count": 6
        }
      ]
    },
    {
      "cell_type": "code",
      "source": [
        "# ============================================\n",
        "# 三つの方案の比較と選択理由\n",
        "# ============================================\n",
        "\n",
        "# 方案1: CYのみ（58特徴量）\n",
        "# 利点：\n",
        "# - 現在の財務状況を詳細に反映\n",
        "# - 多角的な分析が可能\n",
        "# 欠点：\n",
        "# - 過去のトレンドを無視\n",
        "# - 特徴量が多く、過学習のリスク\n",
        "\n",
        "# 方案2: Easton+CY（63特徴量）\n",
        "# 利点：\n",
        "# - 過去のトレンド＋現在の状況を両方考慮\n",
        "# - 最も情報量が多い\n",
        "# 欠点：\n",
        "# - 特徴量が最も多い（63個）\n",
        "# - 計算コストが高い\n",
        "\n",
        "# 方案3: Easton 4dimのみ（4特徴量）\n",
        "# 利点：\n",
        "# - シンプルで解釈しやすい\n",
        "# - 過学習のリスクが低い\n",
        "# 欠点：\n",
        "# - 情報量が少ない\n",
        "# - 現在の財務状況を無視\n",
        "\n",
        "# 推奨：まずCYのみで試し、次にEaston+CYを試す"
      ],
      "metadata": {
        "id": "QXcmab72styx"
      },
      "execution_count": 7,
      "outputs": []
    },
    {
      "cell_type": "markdown",
      "source": [
        "# 4.型変換\n"
      ],
      "metadata": {
        "id": "8gdDxNpLrkHK"
      }
    },
    {
      "cell_type": "code",
      "source": [
        "# 1. 元データは文字列や整数が混在している可能性\n",
        "# 2. ニューラルネットワークは浮動小数点数floatで計算\n",
        "x_train = np.array(x_train, dtype=float)\n",
        "y_train = np.array(y_train, dtype=float)\n",
        "x_test = np.array(x_test, dtype=float)\n",
        "y_test = np.array(y_test, dtype=float)"
      ],
      "metadata": {
        "id": "nGKUyAr6r0vc"
      },
      "execution_count": 8,
      "outputs": []
    },
    {
      "cell_type": "markdown",
      "source": [
        "# 5.self_attention定義\n",
        "*  この関数は、入力された系列データに対してマルチヘッド・セルフアテンション（multi-head\n",
        "self-attention）を適用し、各特徴量が系列全体の他の特徴量との関係性を自動的に学習できるようにします。\n",
        "*  最後に残差接続（residual connection）で元の情報も保持しつつ、出力として融合します。Transformer構造の主要なモジュールです。"
      ],
      "metadata": {
        "id": "K5Y6cmVktmiv"
      }
    },
    {
      "cell_type": "code",
      "source": [
        "def self_attention(x, num_heads,key_dim):\n",
        "  atteion_output = layers.MultiHeadAttention(num_heads=num_heads,key_dim=key_dim)(x,x)\n",
        "  # → atteion_output.shape: (batch_size, seq_len, num_heads × value_dim)\n",
        "  # value_dim 設定してない時に＝key_dim\n",
        "  x = layers.Add()([x,atteion_output])\n",
        "  return x\n",
        ""
      ],
      "metadata": {
        "id": "kuxVDBIAt12x"
      },
      "execution_count": 9,
      "outputs": []
    },
    {
      "cell_type": "markdown",
      "source": [
        "# 5.self_attention 解釈"
      ],
      "metadata": {
        "id": "2NuxlePZvs0I"
      }
    },
    {
      "cell_type": "code",
      "source": [
        "\"\"\"\n",
        "        x\n",
        "        ↓\n",
        "  ┌────────────┐\n",
        "  │  Dense(Wq) │ → Q (query)\n",
        "  │  Dense(Wk) │ → K (key)\n",
        "  │  Dense(Wv) │ → V (value)\n",
        "  └────────────┘\n",
        "        ↓\n",
        "Attention(Q, K, V) = softmax(Q·Kᵀ / √dₖ) × V\n",
        "        ↓\n",
        "      输出ベクトル\n",
        "\n",
        "\"\"\""
      ],
      "metadata": {
        "colab": {
          "base_uri": "https://localhost:8080/",
          "height": 53
        },
        "id": "PJ0izm8e4K7Z",
        "outputId": "21e3b3f9-3843-4d56-b6aa-5a4f15ab517b"
      },
      "execution_count": 10,
      "outputs": [
        {
          "output_type": "execute_result",
          "data": {
            "text/plain": [
              "'\\n        x\\n        ↓\\n  ┌────────────┐\\n  │  Dense(Wq) │ → Q (query)\\n  │  Dense(Wk) │ → K (key)\\n  │  Dense(Wv) │ → V (value)\\n  └────────────┘\\n        ↓\\nAttention(Q, K, V) = softmax(Q·Kᵀ / √dₖ) × V\\n        ↓\\n      输出ベクトル\\n\\n'"
            ],
            "application/vnd.google.colaboratory.intrinsic+json": {
              "type": "string"
            }
          },
          "metadata": {},
          "execution_count": 10
        }
      ]
    },
    {
      "cell_type": "code",
      "source": [
        "# def self_attention(x, num_heads, key_dim):\n",
        "\"\"\"\n",
        "    x : tensor 入力テンソル\n",
        "        形状: (batch_size, sequence_length, projection_dim)\n",
        "        - batch_size: バッチ内の企業数（例：200社）\n",
        "        - sequence_length: 特徴量の数（58個の財務指標)\n",
        "        - projection_dim: 各特徴量のベクトル次元\n",
        "              投影次元（各特徴量を表現するベクトルの次元数）\n",
        "              元データ: 各指標は1つの数値\n",
        "              投影後: 各指標はprojection_dim個の数値で表現\n",
        "              より豊かな表現力を獲得\n",
        "              projection_dim = 64 というのは、\n",
        "              もともと1つのスカラー値だった各特徴量を、64次元のベクトルに変換するという意味です。\n",
        "\n",
        "    num_heads : int マルチヘッド注意機構のヘッド数- 各ヘッドが異なる観点で関係性を捉える\n",
        "\n",
        "    key_dim = projection_dim/num_heads\n",
        "\n",
        "  \"\"\"\n",
        "\n",
        "\n",
        "  # attention_output = layers.MultiHeadAttention(num_heads=num_heads, key_dim=key_dim)(x, x) # (query, key-value)\n",
        "\"\"\"\n",
        "  複数のヘッドで並列に注意を計算し、異なる関係性を捉える\n",
        "  両方xを入力 = 自己注意（self-attention）queryとkey-valueが同じ = 自分自身との関係を見る\n",
        "\n",
        "    注意機構の内部処理:\n",
        "    1. Query（質問）: 各指標が「何を知りたいか」\n",
        "    2. Key（鍵）: 各指標が「何の情報を持っているか」\n",
        "    3. Value（値）: 実際の情報内容\n",
        "\n",
        "    計算手順:\n",
        "    1. 注意スコア = Query × Key^T / √(key_dim)\n",
        "    2. 注意重み = Softmax(注意スコア)\n",
        "    3. 出力 = 注意重み × Value\n",
        "\n",
        "    例: 純利益が他の指標に注意を向ける場合\n",
        "    - 売上高への注意: 0.8（強い正の関係）\n",
        "    - 売上原価への注意: 0.7（強い負の関係）\n",
        "    - 広告費への注意: 0.1（弱い関係）\n",
        "\"\"\"\n",
        "\n",
        "  # x = layers.Add()([x, attention_output])\n",
        "  # return x\n",
        "\"\"\"\n",
        "  残差接続（Residual Connection）元の入力xと注意機構の出力を加算\n",
        "  残差接続の利点:\n",
        "      1. 情報の保持: 元の特徴情報を失わない\n",
        "      2. 勾配の安定: 深いネットワークでも勾配消失を防ぐ\n",
        "      3. 学習の効率: 「変更」ではなく\n",
        "      4. スキップ接続: 必要に応\n",
        "\"\"\""
      ],
      "metadata": {
        "colab": {
          "base_uri": "https://localhost:8080/",
          "height": 53
        },
        "id": "GOEzpDCdu8Gg",
        "outputId": "4313fe9a-2e4b-49fe-a4d1-390aeafcf1b7"
      },
      "execution_count": 12,
      "outputs": [
        {
          "output_type": "execute_result",
          "data": {
            "text/plain": [
              "'\\n  残差接続（Residual Connection）元の入力xと注意機構の出力を加算\\n  残差接続の利点:\\n      1. 情報の保持: 元の特徴情報を失わない\\n      2. 勾配の安定: 深いネットワークでも勾配消失を防ぐ\\n      3. 学習の効率: 「変更」ではなく\\n      4. スキップ接続: 必要に応\\n'"
            ],
            "application/vnd.google.colaboratory.intrinsic+json": {
              "type": "string"
            }
          },
          "metadata": {},
          "execution_count": 12
        }
      ]
    },
    {
      "cell_type": "markdown",
      "source": [
        "# 6.VITーTransformer関数"
      ],
      "metadata": {
        "id": "gJhLUI9lxOH8"
      }
    },
    {
      "cell_type": "code",
      "source": [
        "\"\"\"\n",
        "この関数は、財務指標などの系列データ（時系列や表形式の特徴量）をTransformer構造で処理するための前処理モジュールです。\n",
        "入力データを系列化し、高次元特徴ベクトルに変換しつつ、位置エンコーディング（順序情報）も付加します。\n",
        "その後、複数層のself-attentionを通じて、特徴量同士の複雑な関係性を学習・融合し、最終的に全ての情報を1次元ベクトルとして出力します。\n",
        "予測や分類などの下流タスクの入力としてそのまま利用できます。\n",
        "\"\"\""
      ],
      "metadata": {
        "colab": {
          "base_uri": "https://localhost:8080/",
          "height": 71
        },
        "id": "7oj_LGKAEnSY",
        "outputId": "103ba4fd-4c85-43d5-c972-07ee5ff5ddf7"
      },
      "execution_count": 13,
      "outputs": [
        {
          "output_type": "execute_result",
          "data": {
            "text/plain": [
              "'\\nこの関数は、財務指標などの系列データ（時系列や表形式の特徴量）をTransformer構造で処理するための前処理モジュールです。\\n入力データを系列化し、高次元特徴ベクトルに変換しつつ、位置エンコーディング（順序情報）も付加します。\\nその後、複数層のself-attentionを通じて、特徴量同士の複雑な関係性を学習・融合し、最終的に全ての情報を1次元ベクトルとして出力します。\\n予測や分類などの下流タスクの入力としてそのまま利用できます。\\n'"
            ],
            "application/vnd.google.colaboratory.intrinsic+json": {
              "type": "string"
            }
          },
          "metadata": {},
          "execution_count": 13
        }
      ]
    },
    {
      "cell_type": "code",
      "source": [
        "def create_vit(x,sequence_length):\n",
        "\n",
        "  # 元のx.shape(batch_size, sequence_length)reshapeして次元追加 → (batch_size, sequence_length, 1)\n",
        "  x = layers.Reshape((sequence_length, 1))(x)\n",
        "\n",
        "  # projection_dim次元にマッピング（入力が1次元なので、Denseで広げる）\n",
        "  x = layers.Dense(projection_dim)(x) # shape: (batch_size, sequence_length, projection_dim)\n",
        "\n",
        "  # 位置エンコーディングの追加\n",
        "  positions = tf.range(start=0, limit=sequence_length)\n",
        "  # 0からsequence_length-1 までの位置番号を作成 positions.shape = (sequence_length,)\n",
        "\n",
        "  position_embedding = layers.Embedding(input_dim=sequence_length, output_dim=projection_dim)(positions)\n",
        "  # 位置エンコーディングの次元数は projection_dim（特徴ベクトルの次元数）と同じにする必要がある position_embedding.shape= (sequence_length, projection_dim)\n",
        "\n",
        "  position_embedding = tf.expand_dims(position_embedding, axis=0)\n",
        "  # 先頭に新しい次元（バッチ次元）を追加する操作です shape: (1, sequence_length, projection_dim)\n",
        "\n",
        "  x = layers.Add()([x, position_embedding])  # shape matches: (batch_size, sequence_length, projection_dim)\n",
        "\n",
        "  for _ in range(transformer_layers):\n",
        "    x = self_attention(x, num_heads, projection_dim)\n",
        "\n",
        "  x = layers.Flatten()(x)\n",
        "  # 3次元テンソル（batch_size, sequence_length, projection_dim）を1次元（batch_size, sequence_length * projection_dim）に変換\n",
        "  return x"
      ],
      "metadata": {
        "id": "yWZIQaHjxdCF"
      },
      "execution_count": 20,
      "outputs": []
    },
    {
      "cell_type": "markdown",
      "source": [
        "# 7.繰り返し予測"
      ],
      "metadata": {
        "id": "cCu5lXjgFpjZ"
      }
    },
    {
      "cell_type": "code",
      "source": [
        "%%time\n",
        "from tensorflow.keras.optimizers import AdamW\n",
        "# ハイパーパラメータ\n",
        "num_heads = 3\n",
        "projection_dim = x_train.shape[1]\n",
        "key_dim = projection_dim // num_heads\n",
        "transformer_layers = 1\n",
        "MAX_TRIALS = 3\n",
        "epochs = 8\n",
        "batch_size = 200\n",
        "\n",
        "# 繰り返し予測\n",
        "predictions = []\n",
        "se = []\n",
        "mean_score = []\n",
        "score = []\n",
        "\n",
        "for trial in range(MAX_TRIALS):\n",
        "  print(f\"Trial {trial + 1}/{MAX_TRIALS}\")\n",
        "  sequence_length = x_train.shape[1]\n",
        "  inputs = layers.Input(shape=(sequence_length,)) # shape: (batch, seq_len)\n",
        "\n",
        "  x = create_vit(inputs,sequence_length)\n",
        "\n",
        "  # 全結合層\n",
        "  #x = layers.Dense(64, activation='relu')(inputs)\n",
        "  x = layers.Dense(64, activation='relu')(x)\n",
        "  x = layers.Dense(64, activation='relu')(x)\n",
        "  #x = layers.Dense(40, activation='relu')(x)\n",
        "\n",
        "  outputs = layers.Dense(1, activation='linear')(x)\n",
        "\n",
        "  model = models.Model(inputs=inputs, outputs=outputs)\n",
        "\n",
        "  model.compile(\n",
        "  optimizer='adam',      # Adam最適化アルゴリズム\n",
        "  loss='mae',         # 平均絶対誤差を損失関数に Mean Absolute Error\n",
        "  metrics=['mae']       # 評価指標もMA\n",
        "  )\n",
        "\n",
        "  history = model.fit(x_train, y_train,epochs=epochs, batch_size=batch_size,\n",
        "  validation_data=(x_test, y_test), verbose=1)\n",
        "\n",
        "  y_pred = model.predict(x_test, verbose=0).flatten()\n",
        "  predictions.append(y_pred)\n",
        "  preds_array = np.array(predictions)\n",
        "\n",
        "  N = len(predictions)\n",
        "  se.append(preds_array.std(axis=0) / np.sqrt(N))\n",
        "\n",
        "  score.append(model.evaluate(x_test, y_test, verbose=0)[0])\n",
        "  mean_score.append(np.mean(score))"
      ],
      "metadata": {
        "colab": {
          "base_uri": "https://localhost:8080/"
        },
        "id": "cEIfH-ZaFMIY",
        "outputId": "20776e95-d091-4d31-9eb4-20378747abad"
      },
      "execution_count": 30,
      "outputs": [
        {
          "output_type": "stream",
          "name": "stdout",
          "text": [
            "Trial 1/3\n",
            "Epoch 1/8\n",
            "\u001b[1m136/136\u001b[0m \u001b[32m━━━━━━━━━━━━━━━━━━━━\u001b[0m\u001b[37m\u001b[0m \u001b[1m10s\u001b[0m 30ms/step - loss: 0.0901 - mae: 0.0901 - val_loss: 0.0584 - val_mae: 0.0584\n",
            "Epoch 2/8\n",
            "\u001b[1m136/136\u001b[0m \u001b[32m━━━━━━━━━━━━━━━━━━━━\u001b[0m\u001b[37m\u001b[0m \u001b[1m5s\u001b[0m 12ms/step - loss: 0.0710 - mae: 0.0710 - val_loss: 0.0521 - val_mae: 0.0521\n",
            "Epoch 3/8\n",
            "\u001b[1m136/136\u001b[0m \u001b[32m━━━━━━━━━━━━━━━━━━━━\u001b[0m\u001b[37m\u001b[0m \u001b[1m2s\u001b[0m 11ms/step - loss: 0.0673 - mae: 0.0673 - val_loss: 0.0509 - val_mae: 0.0509\n",
            "Epoch 4/8\n",
            "\u001b[1m136/136\u001b[0m \u001b[32m━━━━━━━━━━━━━━━━━━━━\u001b[0m\u001b[37m\u001b[0m \u001b[1m3s\u001b[0m 11ms/step - loss: 0.0657 - mae: 0.0657 - val_loss: 0.0497 - val_mae: 0.0497\n",
            "Epoch 5/8\n",
            "\u001b[1m136/136\u001b[0m \u001b[32m━━━━━━━━━━━━━━━━━━━━\u001b[0m\u001b[37m\u001b[0m \u001b[1m2s\u001b[0m 9ms/step - loss: 0.0679 - mae: 0.0679 - val_loss: 0.0733 - val_mae: 0.0733\n",
            "Epoch 6/8\n",
            "\u001b[1m136/136\u001b[0m \u001b[32m━━━━━━━━━━━━━━━━━━━━\u001b[0m\u001b[37m\u001b[0m \u001b[1m2s\u001b[0m 11ms/step - loss: 0.0686 - mae: 0.0686 - val_loss: 0.0495 - val_mae: 0.0495\n",
            "Epoch 7/8\n",
            "\u001b[1m136/136\u001b[0m \u001b[32m━━━━━━━━━━━━━━━━━━━━\u001b[0m\u001b[37m\u001b[0m \u001b[1m1s\u001b[0m 9ms/step - loss: 0.0650 - mae: 0.0650 - val_loss: 0.0494 - val_mae: 0.0494\n",
            "Epoch 8/8\n",
            "\u001b[1m136/136\u001b[0m \u001b[32m━━━━━━━━━━━━━━━━━━━━\u001b[0m\u001b[37m\u001b[0m \u001b[1m1s\u001b[0m 11ms/step - loss: 0.0690 - mae: 0.0690 - val_loss: 0.0545 - val_mae: 0.0545\n",
            "Trial 2/3\n",
            "Epoch 1/8\n",
            "\u001b[1m136/136\u001b[0m \u001b[32m━━━━━━━━━━━━━━━━━━━━\u001b[0m\u001b[37m\u001b[0m \u001b[1m8s\u001b[0m 26ms/step - loss: 0.0837 - mae: 0.0837 - val_loss: 0.0516 - val_mae: 0.0516\n",
            "Epoch 2/8\n",
            "\u001b[1m136/136\u001b[0m \u001b[32m━━━━━━━━━━━━━━━━━━━━\u001b[0m\u001b[37m\u001b[0m \u001b[1m2s\u001b[0m 11ms/step - loss: 0.0705 - mae: 0.0705 - val_loss: 0.0504 - val_mae: 0.0504\n",
            "Epoch 3/8\n",
            "\u001b[1m136/136\u001b[0m \u001b[32m━━━━━━━━━━━━━━━━━━━━\u001b[0m\u001b[37m\u001b[0m \u001b[1m2s\u001b[0m 11ms/step - loss: 0.0689 - mae: 0.0689 - val_loss: 0.0542 - val_mae: 0.0542\n",
            "Epoch 4/8\n",
            "\u001b[1m136/136\u001b[0m \u001b[32m━━━━━━━━━━━━━━━━━━━━\u001b[0m\u001b[37m\u001b[0m \u001b[1m1s\u001b[0m 9ms/step - loss: 0.0669 - mae: 0.0669 - val_loss: 0.0520 - val_mae: 0.0520\n",
            "Epoch 5/8\n",
            "\u001b[1m136/136\u001b[0m \u001b[32m━━━━━━━━━━━━━━━━━━━━\u001b[0m\u001b[37m\u001b[0m \u001b[1m1s\u001b[0m 9ms/step - loss: 0.0669 - mae: 0.0669 - val_loss: 0.0589 - val_mae: 0.0589\n",
            "Epoch 6/8\n",
            "\u001b[1m136/136\u001b[0m \u001b[32m━━━━━━━━━━━━━━━━━━━━\u001b[0m\u001b[37m\u001b[0m \u001b[1m1s\u001b[0m 9ms/step - loss: 0.0670 - mae: 0.0670 - val_loss: 0.0523 - val_mae: 0.0523\n",
            "Epoch 7/8\n",
            "\u001b[1m136/136\u001b[0m \u001b[32m━━━━━━━━━━━━━━━━━━━━\u001b[0m\u001b[37m\u001b[0m \u001b[1m1s\u001b[0m 9ms/step - loss: 0.0666 - mae: 0.0666 - val_loss: 0.0495 - val_mae: 0.0495\n",
            "Epoch 8/8\n",
            "\u001b[1m136/136\u001b[0m \u001b[32m━━━━━━━━━━━━━━━━━━━━\u001b[0m\u001b[37m\u001b[0m \u001b[1m1s\u001b[0m 9ms/step - loss: 0.0666 - mae: 0.0666 - val_loss: 0.0507 - val_mae: 0.0507\n",
            "Trial 3/3\n",
            "Epoch 1/8\n",
            "\u001b[1m136/136\u001b[0m \u001b[32m━━━━━━━━━━━━━━━━━━━━\u001b[0m\u001b[37m\u001b[0m \u001b[1m8s\u001b[0m 26ms/step - loss: 0.1187 - mae: 0.1187 - val_loss: 0.0543 - val_mae: 0.0543\n",
            "Epoch 2/8\n",
            "\u001b[1m136/136\u001b[0m \u001b[32m━━━━━━━━━━━━━━━━━━━━\u001b[0m\u001b[37m\u001b[0m \u001b[1m2s\u001b[0m 14ms/step - loss: 0.0728 - mae: 0.0728 - val_loss: 0.0545 - val_mae: 0.0545\n",
            "Epoch 3/8\n",
            "\u001b[1m136/136\u001b[0m \u001b[32m━━━━━━━━━━━━━━━━━━━━\u001b[0m\u001b[37m\u001b[0m \u001b[1m2s\u001b[0m 12ms/step - loss: 0.0706 - mae: 0.0706 - val_loss: 0.0517 - val_mae: 0.0517\n",
            "Epoch 4/8\n",
            "\u001b[1m136/136\u001b[0m \u001b[32m━━━━━━━━━━━━━━━━━━━━\u001b[0m\u001b[37m\u001b[0m \u001b[1m2s\u001b[0m 11ms/step - loss: 0.0666 - mae: 0.0666 - val_loss: 0.0525 - val_mae: 0.0525\n",
            "Epoch 5/8\n",
            "\u001b[1m136/136\u001b[0m \u001b[32m━━━━━━━━━━━━━━━━━━━━\u001b[0m\u001b[37m\u001b[0m \u001b[1m2s\u001b[0m 11ms/step - loss: 0.0666 - mae: 0.0666 - val_loss: 0.0530 - val_mae: 0.0530\n",
            "Epoch 6/8\n",
            "\u001b[1m136/136\u001b[0m \u001b[32m━━━━━━━━━━━━━━━━━━━━\u001b[0m\u001b[37m\u001b[0m \u001b[1m3s\u001b[0m 11ms/step - loss: 0.0679 - mae: 0.0679 - val_loss: 0.0537 - val_mae: 0.0537\n",
            "Epoch 7/8\n",
            "\u001b[1m136/136\u001b[0m \u001b[32m━━━━━━━━━━━━━━━━━━━━\u001b[0m\u001b[37m\u001b[0m \u001b[1m2s\u001b[0m 11ms/step - loss: 0.0656 - mae: 0.0656 - val_loss: 0.0558 - val_mae: 0.0558\n",
            "Epoch 8/8\n",
            "\u001b[1m136/136\u001b[0m \u001b[32m━━━━━━━━━━━━━━━━━━━━\u001b[0m\u001b[37m\u001b[0m \u001b[1m3s\u001b[0m 11ms/step - loss: 0.0640 - mae: 0.0640 - val_loss: 0.0487 - val_mae: 0.0487\n",
            "CPU times: user 57.1 s, sys: 3.59 s, total: 1min\n",
            "Wall time: 1min 22s\n"
          ]
        }
      ]
    },
    {
      "cell_type": "markdown",
      "source": [
        "# ８.可視化"
      ],
      "metadata": {
        "id": "_XVvckBRH0VB"
      }
    },
    {
      "cell_type": "code",
      "source": [
        "se = np.array(se)\n",
        "mean_score = np.array(mean_score)\n",
        "\n",
        "import matplotlib.pyplot as plt\n",
        "\n",
        "#print(se.shape)\n",
        "print('各観測値の95％信頼区間の最大:',1.96 * np.max(se, axis = 1)[MAX_TRIALS-1])\n",
        "print('各観測値の95％信頼区間の平均:',1.96 * np.mean(se, axis = 1)[MAX_TRIALS-1])\n",
        "#print(mean_score.shape)\n",
        "print('MAEの平均値:',mean_score[MAX_TRIALS-1])\n",
        "\n",
        "# Running Test Predictions\n",
        "plt.figure(figsize=(8, 4))\n",
        "plt.plot(1.96 *np.max(se,axis = 1), color = \"black\")\n",
        "plt.plot(1.96 *np.mean(se,axis = 1), color = \"green\")\n",
        "plt.plot(mean_score, color = \"red\")\n",
        "plt.legend()#loc='lower right')\n",
        "plt.xlabel('Time')\n",
        "plt.ylabel('Amplitude')\n",
        "plt.grid(which='major', linestyle='--', axis='both')\n",
        "\n",
        "plt.show()"
      ],
      "metadata": {
        "colab": {
          "base_uri": "https://localhost:8080/",
          "height": 497
        },
        "id": "71TeL1wJH8IR",
        "outputId": "fadd2854-ce1c-449e-dfd4-b47129a4fd58"
      },
      "execution_count": 31,
      "outputs": [
        {
          "output_type": "stream",
          "name": "stdout",
          "text": [
            "各観測値の95％信頼区間の最大: 0.34458152125317937\n",
            "各観測値の95％信頼区間の平均: 0.01037094202334096\n",
            "MAEの平均値: 0.05127025519808134\n"
          ]
        },
        {
          "output_type": "stream",
          "name": "stderr",
          "text": [
            "/tmp/ipython-input-31-821665186.py:17: UserWarning: No artists with labels found to put in legend.  Note that artists whose label start with an underscore are ignored when legend() is called with no argument.\n",
            "  plt.legend()#loc='lower right')\n"
          ]
        },
        {
          "output_type": "display_data",
          "data": {
            "text/plain": [
              "<Figure size 800x400 with 1 Axes>"
            ],
            "image/png": "[encoded data removed]"
          },
          "metadata": {}
        }
      ]
    },
    {
      "cell_type": "markdown",
      "source": [
        "# 📘 モデル構造の流れ（形状付き）\n"
      ],
      "metadata": {
        "id": "xURNFDqRFW3X"
      }
    },
    {
      "cell_type": "code",
      "source": [
        "\"\"\"\n",
        "入力：企業ごとの財務データ（58個の特徴量）\n",
        "x.shape = (batch_size, 58)\n",
        "\n",
        "↓ create_vit関数に入る\n",
        "1. Reshapeで次元追加（系列化）\n",
        "   x → (batch_size, 58, 1)\n",
        "\n",
        "2. Denseで各特徴をベクトル化（特徴投影）\n",
        "   x → (batch_size, 58, projection_dim=58)\n",
        "\n",
        "3. 位置エンコーディングを加える（Positional Embedding）\n",
        "   position_embedding → (1, 58, 58)\n",
        "   加算後：x + position_embedding → (batch_size, 58, 58)\n",
        "\n",
        "4. Self-Attention（Multi-Head Attentionで特徴間の依存関係を学習）\n",
        "   attention_output → (batch_size, 58, 58)\n",
        "   残差接続後 → (batch_size, 58, 58)\n",
        "\n",
        "5. Flattenでベクトル化（Transformerの出力を全結合層に渡すため）\n",
        "   x → (batch_size, 58 × 58) = (batch_size, 3364)\n",
        "\n",
        "↓ 全結合層（MLP部分）\n",
        "6. Dense(64) + ReLU\n",
        "   → (batch_size, 64)\n",
        "\n",
        "7. Dense(64) + ReLU\n",
        "   → (batch_size, 64)\n",
        "\n",
        "8. Dense(1)（線形出力）\n",
        "   → (batch_size, 1)\n",
        "\n",
        "出力：予測される純利益\n",
        "\"\"\""
      ],
      "metadata": {
        "colab": {
          "base_uri": "https://localhost:8080/",
          "height": 125
        },
        "id": "UV2GdxWkFHl4",
        "outputId": "7e564de3-893a-4bcd-8eb5-e031626187af"
      },
      "execution_count": 33,
      "outputs": [
        {
          "output_type": "execute_result",
          "data": {
            "text/plain": [
              "'\\n入力：企業ごとの財務データ（58個の特徴量）\\nx.shape = (batch_size, 58)\\n\\n↓ create_vit関数に入る\\n1. Reshapeで次元追加（系列化）\\n   x → (batch_size, 58, 1)\\n\\n2. Denseで各特徴をベクトル化（特徴投影）\\n   x → (batch_size, 58, projection_dim=58)\\n\\n3. 位置エンコーディングを加える（Positional Embedding）\\n   position_embedding → (1, 58, 58)\\n   加算後：x + position_embedding → (batch_size, 58, 58)\\n\\n4. Self-Attention（Multi-Head Attentionで特徴間の依存関係を学習）\\n   attention_output → (batch_size, 58, 58)\\n   残差接続後 → (batch_size, 58, 58)\\n\\n5. Flattenでベクトル化（Transformerの出力を全結合層に渡すため）\\n   x → (batch_size, 58 × 58) = (batch_size, 3364)\\n\\n↓ 全結合層（MLP部分）\\n6. Dense(64) + ReLU\\n   → (batch_size, 64)\\n\\n7. Dense(64) + ReLU\\n   → (batch_size, 64)\\n\\n8. Dense(1)（線形出力）\\n   → (batch_size, 1)\\n\\n出力：予測される純利益\\n'"
            ],
            "application/vnd.google.colaboratory.intrinsic+json": {
              "type": "string"
            }
          },
          "metadata": {},
          "execution_count": 33
        }
      ]
    },
    {
      "cell_type": "code",
      "source": [
        "\"\"\"\n",
        "学習時のデータフロー（例：x_train.shape = (27011, 58)）\n",
        "\n",
        "1. Input層 → (27011, 58)\n",
        "\n",
        "↓ create_vit関数へ（Transformerブロックを含む）\n",
        "\n",
        "2. Reshape → (27011, 58, 1)\n",
        "\n",
        "3. Dense（特徴投影）→ (27011, 58, 58)\n",
        "\n",
        "4. 位置エンコーディングを加算 → (27011, 58, 58)\n",
        "\n",
        "5. Self-Attention → (27011, 58, 58)\n",
        "\n",
        "6. Flatten → (27011, 3364)\n",
        "\n",
        "↓ MLP\n",
        "7. Dense(64) + ReLU → (27011, 64)\n",
        "\n",
        "8. Dense(64) + ReLU → (27011, 64)\n",
        "\n",
        "9. Dense(1) → (27011, 1)\n",
        "\n",
        "↓ 出力（純利益の予測）\n",
        "→ y_train（形状：(27011, 1)）と比較して損失を計算（MAE）\n",
        "\n",
        "逆伝播を通じて全ての重みを更新（Transformerを含む）\n",
        "\"\"\""
      ],
      "metadata": {
        "colab": {
          "base_uri": "https://localhost:8080/",
          "height": 89
        },
        "id": "lNDv9NBDFMew",
        "outputId": "815f5d38-1794-4153-8d30-50d1257cd9e1"
      },
      "execution_count": 32,
      "outputs": [
        {
          "output_type": "execute_result",
          "data": {
            "text/plain": [
              "'\\n学習時のデータフロー（例：x_train.shape = (27011, 58)）\\n\\n1. Input層 → (27011, 58)\\n\\n↓ create_vit関数へ（Transformerブロックを含む）\\n\\n2. Reshape → (27011, 58, 1)\\n\\n3. Dense（特徴投影）→ (27011, 58, 58)\\n\\n4. 位置エンコーディングを加算 → (27011, 58, 58)\\n\\n5. Self-Attention → (27011, 58, 58)\\n\\n6. Flatten → (27011, 3364)\\n\\n↓ MLP\\n7. Dense(64) + ReLU → (27011, 64)\\n\\n8. Dense(64) + ReLU → (27011, 64)\\n\\n9. Dense(1) → (27011, 1)\\n\\n↓ 出力（純利益の予測）\\n→ y_train（形状：(27011, 1)）と比較して損失を計算（MAE）\\n\\n逆伝播を通じて全ての重みを更新（Transformerを含む）\\n'"
            ],
            "application/vnd.google.colaboratory.intrinsic+json": {
              "type": "string"
            }
          },
          "metadata": {},
          "execution_count": 32
        }
      ]
    }
  ]
}