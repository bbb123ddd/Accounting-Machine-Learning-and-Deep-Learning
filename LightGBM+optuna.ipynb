{
  "nbformat": 4,
  "nbformat_minor": 0,
  "metadata": {
    "colab": {
      "provenance": [],
      "gpuType": "T4"
    },
    "kernelspec": {
      "name": "python3",
      "display_name": "Python 3"
    },
    "language_info": {
      "name": "python"
    },
    "accelerator": "GPU"
  },
  "cells": [
    {
      "cell_type": "markdown",
      "source": [
        "# ライブラリのインストール"
      ],
      "metadata": {
        "id": "8TK53PFGnBEd"
      }
    },
    {
      "cell_type": "code",
      "execution_count": 20,
      "metadata": {
        "id": "co0YKP59m8tP"
      },
      "outputs": [],
      "source": [
        "!pip install optuna -q\n",
        "import pandas as pd\n",
        "import numpy as np\n",
        "import lightgbm as lgb\n",
        "import optuna\n",
        "import time\n",
        "from sklearn.metrics import mean_absolute_error\n",
        "import matplotlib.pyplot as plt"
      ]
    },
    {
      "cell_type": "markdown",
      "source": [
        "# データ読み込み"
      ],
      "metadata": {
        "id": "vB_Bxo1cnDbt"
      }
    },
    {
      "cell_type": "code",
      "source": [
        "from google.colab import drive\n",
        "drive.mount('/content/drive')\n",
        "file_path = '/content/drive/MyDrive/github/利益予測データベース.xlsx'\n",
        "df = pd.read_excel(file_path)\n",
        "dt = pd.read_excel(file_path)\n",
        "print(dt.head())\n",
        "data = df.values"
      ],
      "metadata": {
        "colab": {
          "base_uri": "https://localhost:8080/"
        },
        "id": "HN5M_EganFGo",
        "outputId": "ea1c8493-0016-4c85-e525-d13a14bd7060"
      },
      "execution_count": 21,
      "outputs": [
        {
          "output_type": "stream",
          "name": "stdout",
          "text": [
            "Drive already mounted at /content/drive; to attempt to forcibly remount, call drive.mount(\"/content/drive\", force_remount=True).\n",
            "           sample  group      ni_t     ni_t1     ni_t2     ni_t3     ni_t4  \\\n",
            "0  201003N0000001      1  0.053142  0.077657  0.073253  0.097867  0.098210   \n",
            "1  200903N0000001      1  0.083942  0.079182  0.105787  0.106157  0.073416   \n",
            "2  200803N0000001      1  0.052085  0.069586  0.069830  0.048293  0.043422   \n",
            "3  200703N0000001      1  0.060600  0.060812  0.042056  0.037814  0.033996   \n",
            "4  200603N0000001      1  0.080197  0.055463  0.049869  0.044834  0.040998   \n",
            "\n",
            "      ni_t5   cy_e_t1  cy_sale_t1  ...  cy_iva_c_t1  cy_intan_c_t1  \\\n",
            "0  0.067920  0.077657    7.220336  ...    -0.025984       0.009102   \n",
            "1  0.066011  0.079182    7.815907  ...    -0.073469       0.002539   \n",
            "2  0.039038  0.069586    5.465569  ...    -0.083399       0.000139   \n",
            "3  0.031088  0.060812    4.632824  ...     0.105868       0.005575   \n",
            "4  0.037042  0.055463    6.099235  ...    -0.012547       0.000679   \n",
            "\n",
            "   cy_ap_c_t1  cy_dlc_c_t1  cy_txp_c_t1  cy_dltt_c_t1  cy_re_c_t1  \\\n",
            "0    0.008368     0.135497    -0.011255      0.035526    0.051674   \n",
            "1   -0.052206    -0.333652     0.020470     -0.017614    0.044907   \n",
            "2   -0.056052     0.133675     0.000974     -0.031488    0.049406   \n",
            "3    0.039057     0.072174    -0.004606     -0.052934    0.043632   \n",
            "4    0.018461    -0.114562     0.001758      0.075842    0.035723   \n",
            "\n",
            "   cy_cfo_c_t1  ni_t_mgt  afe_t_mgt  \n",
            "0    -0.339696  0.088080   0.034939  \n",
            "1     0.587329  0.079340   0.004602  \n",
            "2    -0.105840  0.066107   0.014022  \n",
            "3     0.004212  0.075750   0.015150  \n",
            "4    -0.049469  0.083914   0.003716  \n",
            "\n",
            "[5 rows x 68 columns]\n"
          ]
        }
      ]
    },
    {
      "cell_type": "markdown",
      "source": [
        "# 訓練データとテストデータに分割"
      ],
      "metadata": {
        "id": "uTVcwINKnowJ"
      }
    },
    {
      "cell_type": "code",
      "source": [
        "# data[:, 1] == 1 → 訓練データ（例：ラベル1が訓練データを意味する場合）\n",
        "# data[:, 1] == 2 → テストデータ（例：ラベル2がテストデータを意味する場合）\n",
        "x_train = data[:, 8:66][data[:, 1] == 1]\n",
        "y_train = data[:, 2][data[:, 1] == 1]\n",
        "x_test = data[:, 8:66][data[:, 1] == 2]\n",
        "y_test = data[:, 2][data[:, 1] == 2]"
      ],
      "metadata": {
        "id": "Fr8-ER85nqUH"
      },
      "execution_count": 22,
      "outputs": []
    },
    {
      "cell_type": "markdown",
      "source": [
        "# Optuna 目的関数定義"
      ],
      "metadata": {
        "id": "E94DuTyQnsbO"
      }
    },
    {
      "cell_type": "markdown",
      "source": [
        "| 代码                          | 作用（日语）       | 用法例子           |\n",
        "| --------------------------- | ------------ | -------------- |\n",
        "| `trial.suggest_categorical` | 候補リストから選ぶ    | `[64, 128]` など |\n",
        "| `trial.suggest_int`         | 整数を範囲から選ぶ    | `2, 4`         |\n",
        "| `trial.suggest_float`       | 実数を範囲から選ぶ    | `0.0, 0.2`     |\n",
        "| `trial.suggest_float`  | 対数スケールの実数を選ぶ | `1e-4, 1e-1, log=True`   |"
      ],
      "metadata": {
        "id": "5y1DGD4gn74x"
      }
    },
    {
      "cell_type": "code",
      "source": [
        "def objective(trial):\n",
        "    # Optunaでハイパーパラメータ自動探索\n",
        "    params = {\n",
        "        'objective': 'regression_l1',  # MAE回帰\n",
        "        'metric': 'mae',\n",
        "        'n_estimators': trial.suggest_int('n_estimators', 100, 1000, step=50),\n",
        "        'learning_rate': trial.suggest_float('learning_rate', 0.005, 0.1, log=True),\n",
        "        'max_depth': trial.suggest_int('max_depth', 3, 10),\n",
        "        'num_leaves': trial.suggest_int('num_leaves', 20, 150),\n",
        "        'min_child_samples': trial.suggest_int('min_child_samples', 5, 50),\n",
        "        'subsample': trial.suggest_float('subsample', 0.6, 1.0, step=0.05),\n",
        "        'colsample_bytree': trial.suggest_float('colsample_bytree', 0.6, 1.0, step=0.05),\n",
        "        'reg_alpha': trial.suggest_float('reg_alpha', 1e-8, 1.0, log=True),\n",
        "        'reg_lambda': trial.suggest_float('reg_lambda', 1e-8, 1.0, log=True),\n",
        "        'random_state': 42,\n",
        "        'n_jobs': -1,\n",
        "        'verbose': -1\n",
        "    }\n",
        "    model = lgb.LGBMRegressor(**params) # Dictionary Unpacking\n",
        "    model.fit(x_train, y_train)\n",
        "    y_pred = model.predict(x_test)\n",
        "    mae = mean_absolute_error(y_test, y_pred)\n",
        "    return mae  # MAEが小さいほど良い"
      ],
      "metadata": {
        "id": "ZPOa1UqNnx5a"
      },
      "execution_count": 25,
      "outputs": []
    },
    {
      "cell_type": "markdown",
      "source": [
        " lgb.LGBMRegressor(**params)\n",
        "    # `**` を付けることで、params辞書が展開（アンパック）され、\n",
        "    # 中のキーと値がそれぞれキーワード引数(ひきすう)としてモデルに渡されます。\n",
        "    # つまり、以下のようにコードを書いたのと同じ意味になります。\n",
        "    # lgb.LGBMRegressor(objective='regression_l1',\n",
        "    #                   metric='mae',\n",
        "    #                   n_estimators=100,\n",
        "    #                   learning_rate=0.05,\n",
        "    #                   ...)\n",
        "    model = lgb.LGBMRegressor(**params)"
      ],
      "metadata": {
        "id": "x_iE5rcmyeqV"
      }
    },
    {
      "cell_type": "markdown",
      "source": [
        "| 参数                  | 中文说明               | 日语说明                | 常见调节建议                   |\n",
        "| ------------------- | ------------------ | ------------------- | ------------------------ |\n",
        "| objective           | 回归/损失函数（MAE，绝对值损失） | 目的関数/損失関数（MAE，絶対誤差） | 固定为回归问题时用 regression\\_l1 |\n",
        "| metric              | 评估指标（平均绝对误差）       | 評価指標（MAE）           | 固定                       |\n",
        "| n\\_estimators       | 树的棵数               | 決定木の本数              | 100-1000，树越多训练越慢         |\n",
        "| learning\\_rate      | 学习率                | 学習率                 | 0.005-0.1，越小越稳健          |\n",
        "| max\\_depth          | 最大树深               | 木の深さの最大値            | 3-10，越大模型越复杂             |\n",
        "| num\\_leaves         | 叶子数                | 葉の数                 | 20-150，越大表达力强，易过拟合       |\n",
        "| min\\_child\\_samples | 叶节点最小样本数           | 葉の最小データ数            | 防止叶节点太小，5-50             |\n",
        "| subsample           | 行采样比例              | データサンプリング率          | 0.6-1.0，防止过拟合            |\n",
        "| colsample\\_bytree   | 列采样比例              | 特徴量サンプリング率          | 0.6-1.0，防止过拟合            |\n",
        "| reg\\_alpha          | L1正则               | L1正則化項              | 大一些会让模型稀疏化，减少过拟合         |\n",
        "| reg\\_lambda         | L2正则               | L2正則化項              | 控制参数大小，减少过拟合             |\n",
        "| random\\_state       | 随机种子               | 乱数シード               | 固定用于复现                   |\n",
        "| n\\_jobs             | 并行数                | 並列計算数               | -1使用全部CPU                |\n",
        "| verbose             | 日志详细度              | ログの出力レベル            | -1 静默                    |\n"
      ],
      "metadata": {
        "id": "VDOx0iDfu9JF"
      }
    },
    {
      "cell_type": "markdown",
      "source": [
        "# Optuna実行"
      ],
      "metadata": {
        "id": "oEg0e_0hoHEx"
      }
    },
    {
      "cell_type": "code",
      "source": [
        "import plotly.io as pio\n",
        "# Colab環境でプロットを正しく表示するための設定です\n",
        "pio.renderers.default = 'colab'\n",
        "\n",
        "# ステップ1: studyオブジェクトを作成します。\n",
        "# 私たちの目標はMAE（平均絶対誤差）を最小にすることなので、direction='minimize'と設定します。\n",
        "study = optuna.create_study(direction='minimize')\n",
        "\n",
        "# ステップ2: 最適化を実行します。\n",
        "# objective関数を30回試行(n_trials=50)して、最適なハイパーパラメータを探します。\n",
        "# この処理には数分かかることがあります。\n",
        "print(\"optunaによるハイパーパラメータ探索を開始します...\")\n",
        "study.optimize(objective, n_trials=50)\n",
        "\n",
        "\n",
        "# 探索完了後に結果を出力します。\n",
        "print(\"\\n探索が完了しました。\")\n",
        "print(f\"最良スコア (検証MAE): {study.best_value}\")\n",
        "print(\"最良のハイパーパラメータ:\")\n",
        "for key, value in study.best_params.items():\n",
        "    print(f\"  {key}: {value}\")\n",
        "\n",
        "# ステップ3: 結果を可視化します。\n",
        "from optuna.visualization import plot_optimization_history, plot_param_importances\n",
        "\n",
        "\n",
        "print(\"\\n--------------------------- 可視化結果 ------------------------------\")\n",
        "\n",
        "# 探索履歴のプロット\n",
        "# 各試行でMAEがどのように改善されていったかを確認できます。\n",
        "fig1 = plot_optimization_history(study)\n",
        "fig1.show()\n",
        "\n",
        "\n",
        "# ハイパーパラメータの重要度のプロット\n",
        "# どのパラメータが最終的なスコアに最も影響を与えたかを確認できます。\n",
        "fig2 = plot_param_importances(study)\n",
        "fig2.show()\n"
      ],
      "metadata": {
        "colab": {
          "base_uri": "https://localhost:8080/",
          "height": 1000
        },
        "id": "lRaoOxlCt_MP",
        "outputId": "38da237c-d859-42a1-d121-ac6be86567c6"
      },
      "execution_count": 26,
      "outputs": [
        {
          "output_type": "stream",
          "name": "stderr",
          "text": [
            "[I 2025-06-29 03:44:20,412] A new study created in memory with name: no-name-5a3f918f-f94d-46d4-8375-ac694f9e67d2\n"
          ]
        },
        {
          "output_type": "stream",
          "name": "stdout",
          "text": [
            "optunaによるハイパーパラメータ探索を開始します...\n"
          ]
        },
        {
          "output_type": "stream",
          "name": "stderr",
          "text": [
            "[I 2025-06-29 03:44:22,350] Trial 0 finished with value: 0.04923020373506031 and parameters: {'n_estimators': 350, 'learning_rate': 0.060927812783200634, 'max_depth': 3, 'num_leaves': 64, 'min_child_samples': 15, 'subsample': 0.7, 'colsample_bytree': 0.65, 'reg_alpha': 0.13619895529873635, 'reg_lambda': 0.08509605593111053}. Best is trial 0 with value: 0.04923020373506031.\n",
            "[I 2025-06-29 03:44:28,593] Trial 1 finished with value: 0.049251580940025096 and parameters: {'n_estimators': 650, 'learning_rate': 0.01927914196071351, 'max_depth': 3, 'num_leaves': 93, 'min_child_samples': 5, 'subsample': 0.9, 'colsample_bytree': 0.85, 'reg_alpha': 5.127526277936975e-06, 'reg_lambda': 0.6386538375031565}. Best is trial 0 with value: 0.04923020373506031.\n",
            "[I 2025-06-29 03:44:34,375] Trial 2 finished with value: 0.04991863103552537 and parameters: {'n_estimators': 350, 'learning_rate': 0.08780135461063414, 'max_depth': 7, 'num_leaves': 72, 'min_child_samples': 31, 'subsample': 1.0, 'colsample_bytree': 1.0, 'reg_alpha': 5.230669627685515e-05, 'reg_lambda': 2.11187495589413e-07}. Best is trial 0 with value: 0.04923020373506031.\n",
            "[I 2025-06-29 03:44:38,403] Trial 3 finished with value: 0.049843270347683745 and parameters: {'n_estimators': 300, 'learning_rate': 0.05680878053588303, 'max_depth': 8, 'num_leaves': 36, 'min_child_samples': 13, 'subsample': 0.9, 'colsample_bytree': 0.65, 'reg_alpha': 2.1310190161269168e-08, 'reg_lambda': 1.8383092191086146e-08}. Best is trial 0 with value: 0.04923020373506031.\n",
            "[I 2025-06-29 03:44:46,213] Trial 4 finished with value: 0.050185924249858765 and parameters: {'n_estimators': 250, 'learning_rate': 0.053333928134704875, 'max_depth': 10, 'num_leaves': 82, 'min_child_samples': 10, 'subsample': 0.65, 'colsample_bytree': 0.75, 'reg_alpha': 1.2288141924858043e-06, 'reg_lambda': 0.2816599509628542}. Best is trial 0 with value: 0.04923020373506031.\n",
            "[I 2025-06-29 03:44:49,694] Trial 5 finished with value: 0.05007583529319079 and parameters: {'n_estimators': 300, 'learning_rate': 0.014083772801672082, 'max_depth': 5, 'num_leaves': 38, 'min_child_samples': 16, 'subsample': 0.6, 'colsample_bytree': 0.75, 'reg_alpha': 6.390698650975254e-06, 'reg_lambda': 0.0002010910849522465}. Best is trial 0 with value: 0.04923020373506031.\n",
            "[I 2025-06-29 03:45:12,879] Trial 6 finished with value: 0.049678301266484974 and parameters: {'n_estimators': 800, 'learning_rate': 0.013975680056845052, 'max_depth': 10, 'num_leaves': 43, 'min_child_samples': 9, 'subsample': 0.75, 'colsample_bytree': 1.0, 'reg_alpha': 6.434925845239858e-07, 'reg_lambda': 2.710191402172748e-06}. Best is trial 0 with value: 0.04923020373506031.\n",
            "[I 2025-06-29 03:45:17,187] Trial 7 finished with value: 0.049662817899328096 and parameters: {'n_estimators': 250, 'learning_rate': 0.02504931096370198, 'max_depth': 6, 'num_leaves': 98, 'min_child_samples': 5, 'subsample': 0.6, 'colsample_bytree': 0.85, 'reg_alpha': 1.0098987507310916e-08, 'reg_lambda': 5.5830328982235475e-05}. Best is trial 0 with value: 0.04923020373506031.\n",
            "[I 2025-06-29 03:45:22,884] Trial 8 finished with value: 0.05669293523895303 and parameters: {'n_estimators': 150, 'learning_rate': 0.005567963493515874, 'max_depth': 7, 'num_leaves': 71, 'min_child_samples': 40, 'subsample': 0.75, 'colsample_bytree': 0.75, 'reg_alpha': 1.0635115040345343e-08, 'reg_lambda': 0.48858839004940696}. Best is trial 0 with value: 0.04923020373506031.\n",
            "[I 2025-06-29 03:45:30,863] Trial 9 finished with value: 0.04946518010120715 and parameters: {'n_estimators': 600, 'learning_rate': 0.02137395986714083, 'max_depth': 6, 'num_leaves': 34, 'min_child_samples': 49, 'subsample': 0.7, 'colsample_bytree': 1.0, 'reg_alpha': 1.988090442910624e-07, 'reg_lambda': 9.637267219313865e-08}. Best is trial 0 with value: 0.04923020373506031.\n",
            "[I 2025-06-29 03:45:37,926] Trial 10 finished with value: 0.04911517191238471 and parameters: {'n_estimators': 1000, 'learning_rate': 0.040103093637628394, 'max_depth': 3, 'num_leaves': 116, 'min_child_samples': 23, 'subsample': 0.85, 'colsample_bytree': 0.6, 'reg_alpha': 0.44854319371181284, 'reg_lambda': 0.009173992943890893}. Best is trial 10 with value: 0.04911517191238471.\n",
            "[I 2025-06-29 03:45:42,715] Trial 11 finished with value: 0.049178552156263246 and parameters: {'n_estimators': 1000, 'learning_rate': 0.04068721947056281, 'max_depth': 3, 'num_leaves': 135, 'min_child_samples': 23, 'subsample': 0.85, 'colsample_bytree': 0.6, 'reg_alpha': 0.9939260496709306, 'reg_lambda': 0.009035690188751992}. Best is trial 10 with value: 0.04911517191238471.\n",
            "[I 2025-06-29 03:45:53,373] Trial 12 finished with value: 0.04935183008446179 and parameters: {'n_estimators': 1000, 'learning_rate': 0.03425754949208265, 'max_depth': 4, 'num_leaves': 135, 'min_child_samples': 24, 'subsample': 0.85, 'colsample_bytree': 0.6, 'reg_alpha': 0.32475821762058543, 'reg_lambda': 0.004843925028648272}. Best is trial 10 with value: 0.04911517191238471.\n",
            "[I 2025-06-29 03:46:01,976] Trial 13 finished with value: 0.04946275473834159 and parameters: {'n_estimators': 1000, 'learning_rate': 0.03662443471754686, 'max_depth': 4, 'num_leaves': 140, 'min_child_samples': 25, 'subsample': 0.85, 'colsample_bytree': 0.6, 'reg_alpha': 0.00395636116233411, 'reg_lambda': 0.007139085683004339}. Best is trial 10 with value: 0.04911517191238471.\n",
            "[I 2025-06-29 03:46:07,535] Trial 14 finished with value: 0.049310374819869725 and parameters: {'n_estimators': 850, 'learning_rate': 0.03879995923821528, 'max_depth': 4, 'num_leaves': 118, 'min_child_samples': 31, 'subsample': 1.0, 'colsample_bytree': 0.65, 'reg_alpha': 0.009824034965388225, 'reg_lambda': 0.0038236454081303204}. Best is trial 10 with value: 0.04911517191238471.\n",
            "[I 2025-06-29 03:46:12,786] Trial 15 finished with value: 0.0492931469209381 and parameters: {'n_estimators': 850, 'learning_rate': 0.09526882996409278, 'max_depth': 3, 'num_leaves': 116, 'min_child_samples': 20, 'subsample': 0.9, 'colsample_bytree': 0.7, 'reg_alpha': 0.019750957798831, 'reg_lambda': 0.0004684386537324596}. Best is trial 10 with value: 0.04911517191238471.\n",
            "[I 2025-06-29 03:46:23,382] Trial 16 finished with value: 0.050240658419044605 and parameters: {'n_estimators': 750, 'learning_rate': 0.005770261911289278, 'max_depth': 5, 'num_leaves': 149, 'min_child_samples': 36, 'subsample': 0.8, 'colsample_bytree': 0.6, 'reg_alpha': 0.9615074754431112, 'reg_lambda': 0.031965563049421865}. Best is trial 10 with value: 0.04911517191238471.\n",
            "[I 2025-06-29 03:46:43,081] Trial 17 finished with value: 0.04944631080334793 and parameters: {'n_estimators': 950, 'learning_rate': 0.010160482947658093, 'max_depth': 5, 'num_leaves': 118, 'min_child_samples': 22, 'subsample': 0.95, 'colsample_bytree': 0.9, 'reg_alpha': 0.000599318046134018, 'reg_lambda': 2.3061507404977472e-05}. Best is trial 10 with value: 0.04911517191238471.\n",
            "[I 2025-06-29 03:46:55,434] Trial 18 finished with value: 0.04999329976986269 and parameters: {'n_estimators': 500, 'learning_rate': 0.028742865588509223, 'max_depth': 8, 'num_leaves': 105, 'min_child_samples': 30, 'subsample': 0.8, 'colsample_bytree': 0.7, 'reg_alpha': 0.05758161725188153, 'reg_lambda': 0.0015875877372218017}. Best is trial 10 with value: 0.04911517191238471.\n",
            "[I 2025-06-29 03:46:59,001] Trial 19 finished with value: 0.049021512151717996 and parameters: {'n_estimators': 700, 'learning_rate': 0.04808617818557975, 'max_depth': 3, 'num_leaves': 127, 'min_child_samples': 38, 'subsample': 0.85, 'colsample_bytree': 0.7, 'reg_alpha': 0.0010543691268042083, 'reg_lambda': 0.041179907737769916}. Best is trial 19 with value: 0.049021512151717996.\n",
            "[I 2025-06-29 03:47:02,429] Trial 20 finished with value: 0.049285495809533036 and parameters: {'n_estimators': 450, 'learning_rate': 0.07078499672862738, 'max_depth': 4, 'num_leaves': 122, 'min_child_samples': 45, 'subsample': 0.95, 'colsample_bytree': 0.7, 'reg_alpha': 0.0003206284478949596, 'reg_lambda': 0.04325077870705513}. Best is trial 19 with value: 0.049021512151717996.\n",
            "[I 2025-06-29 03:47:11,381] Trial 21 finished with value: 0.04922578443941941 and parameters: {'n_estimators': 900, 'learning_rate': 0.044725960111273146, 'max_depth': 3, 'num_leaves': 132, 'min_child_samples': 37, 'subsample': 0.85, 'colsample_bytree': 0.6, 'reg_alpha': 0.0027435313896072714, 'reg_lambda': 0.02512711820693875}. Best is trial 19 with value: 0.049021512151717996.\n",
            "[I 2025-06-29 03:47:15,570] Trial 22 finished with value: 0.049155486067067336 and parameters: {'n_estimators': 700, 'learning_rate': 0.046226535930265, 'max_depth': 3, 'num_leaves': 148, 'min_child_samples': 27, 'subsample': 0.8, 'colsample_bytree': 0.65, 'reg_alpha': 0.8199596060123182, 'reg_lambda': 0.0006166653226348115}. Best is trial 19 with value: 0.049021512151717996.\n",
            "[I 2025-06-29 03:47:22,216] Trial 23 finished with value: 0.049313517078072265 and parameters: {'n_estimators': 700, 'learning_rate': 0.07787044581722619, 'max_depth': 4, 'num_leaves': 150, 'min_child_samples': 28, 'subsample': 0.8, 'colsample_bytree': 0.65, 'reg_alpha': 0.06327709615873861, 'reg_lambda': 6.8098552689956505e-06}. Best is trial 19 with value: 0.049021512151717996.\n",
            "[I 2025-06-29 03:47:26,810] Trial 24 finished with value: 0.04934701344284495 and parameters: {'n_estimators': 550, 'learning_rate': 0.04988835117461868, 'max_depth': 5, 'num_leaves': 107, 'min_child_samples': 36, 'subsample': 0.75, 'colsample_bytree': 0.7, 'reg_alpha': 0.0011826514373675613, 'reg_lambda': 0.00042162751638908177}. Best is trial 19 with value: 0.049021512151717996.\n",
            "[I 2025-06-29 03:47:30,877] Trial 25 finished with value: 0.04909150027774981 and parameters: {'n_estimators': 700, 'learning_rate': 0.028858963020158578, 'max_depth': 3, 'num_leaves': 124, 'min_child_samples': 42, 'subsample': 0.9, 'colsample_bytree': 0.8, 'reg_alpha': 7.381996165842042e-05, 'reg_lambda': 0.0011031966003305952}. Best is trial 19 with value: 0.049021512151717996.\n",
            "[I 2025-06-29 03:47:38,897] Trial 26 finished with value: 0.04922175441419275 and parameters: {'n_estimators': 800, 'learning_rate': 0.0286735429143554, 'max_depth': 4, 'num_leaves': 127, 'min_child_samples': 46, 'subsample': 0.9, 'colsample_bytree': 0.8, 'reg_alpha': 0.00011220936767093605, 'reg_lambda': 0.10819132054872464}. Best is trial 19 with value: 0.049021512151717996.\n",
            "[I 2025-06-29 03:47:42,411] Trial 27 finished with value: 0.04913797196940258 and parameters: {'n_estimators': 600, 'learning_rate': 0.03204126874928903, 'max_depth': 3, 'num_leaves': 107, 'min_child_samples': 41, 'subsample': 0.95, 'colsample_bytree': 0.8, 'reg_alpha': 2.8388960205643963e-05, 'reg_lambda': 0.0020921396792589727}. Best is trial 19 with value: 0.049021512151717996.\n",
            "[I 2025-06-29 03:48:07,901] Trial 28 finished with value: 0.05000495407975996 and parameters: {'n_estimators': 900, 'learning_rate': 0.018235485475667213, 'max_depth': 9, 'num_leaves': 90, 'min_child_samples': 40, 'subsample': 0.95, 'colsample_bytree': 0.9, 'reg_alpha': 0.0002117498959273709, 'reg_lambda': 0.015555764494098597}. Best is trial 19 with value: 0.049021512151717996.\n",
            "[I 2025-06-29 03:48:10,704] Trial 29 finished with value: 0.049001122872789925 and parameters: {'n_estimators': 450, 'learning_rate': 0.06685164734869518, 'max_depth': 3, 'num_leaves': 112, 'min_child_samples': 50, 'subsample': 0.85, 'colsample_bytree': 0.85, 'reg_alpha': 1.0526352906538201e-05, 'reg_lambda': 0.10119273398962367}. Best is trial 29 with value: 0.049001122872789925.\n",
            "[I 2025-06-29 03:48:17,768] Trial 30 finished with value: 0.04955891379120898 and parameters: {'n_estimators': 450, 'learning_rate': 0.06766341116646037, 'max_depth': 6, 'num_leaves': 103, 'min_child_samples': 50, 'subsample': 0.9, 'colsample_bytree': 0.85, 'reg_alpha': 1.5842340780421275e-05, 'reg_lambda': 0.1336786169535247}. Best is trial 29 with value: 0.049001122872789925.\n",
            "[I 2025-06-29 03:48:20,507] Trial 31 finished with value: 0.048935889626871926 and parameters: {'n_estimators': 450, 'learning_rate': 0.057586022732126506, 'max_depth': 3, 'num_leaves': 113, 'min_child_samples': 45, 'subsample': 0.85, 'colsample_bytree': 0.9, 'reg_alpha': 5.795867476518175e-06, 'reg_lambda': 0.0724180494365362}. Best is trial 31 with value: 0.048935889626871926.\n",
            "[I 2025-06-29 03:48:23,087] Trial 32 finished with value: 0.04911420995409527 and parameters: {'n_estimators': 400, 'learning_rate': 0.0660795816580674, 'max_depth': 3, 'num_leaves': 126, 'min_child_samples': 45, 'subsample': 0.85, 'colsample_bytree': 0.9, 'reg_alpha': 4.890895131599862e-06, 'reg_lambda': 0.11192904736086563}. Best is trial 31 with value: 0.048935889626871926.\n",
            "[I 2025-06-29 03:48:29,719] Trial 33 finished with value: 0.049290160074730964 and parameters: {'n_estimators': 550, 'learning_rate': 0.05917264024088616, 'max_depth': 4, 'num_leaves': 83, 'min_child_samples': 47, 'subsample': 0.9, 'colsample_bytree': 0.95, 'reg_alpha': 2.0377635413712312e-06, 'reg_lambda': 0.3425199002345517}. Best is trial 31 with value: 0.048935889626871926.\n",
            "[I 2025-06-29 03:48:33,714] Trial 34 finished with value: 0.04912165389399393 and parameters: {'n_estimators': 650, 'learning_rate': 0.08720796691013508, 'max_depth': 3, 'num_leaves': 111, 'min_child_samples': 43, 'subsample': 0.8, 'colsample_bytree': 0.95, 'reg_alpha': 6.06704577313536e-05, 'reg_lambda': 0.8468805470643057}. Best is trial 31 with value: 0.048935889626871926.\n",
            "[I 2025-06-29 03:48:37,708] Trial 35 finished with value: 0.04923717568820278 and parameters: {'n_estimators': 500, 'learning_rate': 0.052634225366402235, 'max_depth': 4, 'num_leaves': 56, 'min_child_samples': 43, 'subsample': 1.0, 'colsample_bytree': 0.85, 'reg_alpha': 2.0086077103401042e-07, 'reg_lambda': 0.03846238354338234}. Best is trial 31 with value: 0.048935889626871926.\n",
            "[I 2025-06-29 03:48:41,635] Trial 36 finished with value: 0.04900322840191574 and parameters: {'n_estimators': 400, 'learning_rate': 0.0783026140354298, 'max_depth': 3, 'num_leaves': 141, 'min_child_samples': 48, 'subsample': 0.85, 'colsample_bytree': 0.8, 'reg_alpha': 1.359454980656442e-05, 'reg_lambda': 0.0014366275505048641}. Best is trial 31 with value: 0.048935889626871926.\n",
            "[I 2025-06-29 03:48:45,469] Trial 37 finished with value: 0.04956951908936097 and parameters: {'n_estimators': 400, 'learning_rate': 0.09897998259674529, 'max_depth': 5, 'num_leaves': 142, 'min_child_samples': 50, 'subsample': 0.75, 'colsample_bytree': 0.95, 'reg_alpha': 1.4275156335607142e-05, 'reg_lambda': 0.19592429774826114}. Best is trial 31 with value: 0.048935889626871926.\n",
            "[I 2025-06-29 03:48:47,310] Trial 38 finished with value: 0.049117427148189736 and parameters: {'n_estimators': 300, 'learning_rate': 0.08527503223518343, 'max_depth': 3, 'num_leaves': 94, 'min_child_samples': 47, 'subsample': 0.7, 'colsample_bytree': 0.75, 'reg_alpha': 3.796100613273263e-07, 'reg_lambda': 0.00011378699843556812}. Best is trial 31 with value: 0.048935889626871926.\n",
            "[I 2025-06-29 03:48:49,289] Trial 39 finished with value: 0.04933995932224946 and parameters: {'n_estimators': 200, 'learning_rate': 0.06105488331194047, 'max_depth': 4, 'num_leaves': 140, 'min_child_samples': 34, 'subsample': 0.85, 'colsample_bytree': 0.9, 'reg_alpha': 7.506996425642014e-08, 'reg_lambda': 0.7780652289962717}. Best is trial 31 with value: 0.048935889626871926.\n",
            "[I 2025-06-29 03:48:58,584] Trial 40 finished with value: 0.050190005861358744 and parameters: {'n_estimators': 350, 'learning_rate': 0.07604248276653097, 'max_depth': 8, 'num_leaves': 131, 'min_child_samples': 38, 'subsample': 0.8, 'colsample_bytree': 0.85, 'reg_alpha': 2.8664194701592755e-06, 'reg_lambda': 0.05841031548062094}. Best is trial 31 with value: 0.048935889626871926.\n",
            "[I 2025-06-29 03:49:02,150] Trial 41 finished with value: 0.049070409050597286 and parameters: {'n_estimators': 650, 'learning_rate': 0.05587493321005043, 'max_depth': 3, 'num_leaves': 20, 'min_child_samples': 42, 'subsample': 0.9, 'colsample_bytree': 0.8, 'reg_alpha': 1.0317972634870842e-05, 'reg_lambda': 0.0009875454198784398}. Best is trial 31 with value: 0.048935889626871926.\n",
            "[I 2025-06-29 03:49:07,439] Trial 42 finished with value: 0.04903688252256167 and parameters: {'n_estimators': 500, 'learning_rate': 0.05786434678238297, 'max_depth': 3, 'num_leaves': 56, 'min_child_samples': 47, 'subsample': 0.9, 'colsample_bytree': 0.8, 'reg_alpha': 1.2078039223331673e-05, 'reg_lambda': 3.956491280314532e-05}. Best is trial 31 with value: 0.048935889626871926.\n",
            "[I 2025-06-29 03:49:09,961] Trial 43 finished with value: 0.04902368432970807 and parameters: {'n_estimators': 450, 'learning_rate': 0.07931981416836649, 'max_depth': 3, 'num_leaves': 74, 'min_child_samples': 48, 'subsample': 0.85, 'colsample_bytree': 0.8, 'reg_alpha': 3.2305917955081214e-05, 'reg_lambda': 2.0182324885987503e-06}. Best is trial 31 with value: 0.048935889626871926.\n",
            "[I 2025-06-29 03:49:13,095] Trial 44 finished with value: 0.04935352278538031 and parameters: {'n_estimators': 400, 'learning_rate': 0.0759230168577607, 'max_depth': 4, 'num_leaves': 71, 'min_child_samples': 48, 'subsample': 0.85, 'colsample_bytree': 0.85, 'reg_alpha': 1.0700893497735157e-06, 'reg_lambda': 3.946753852664363e-07}. Best is trial 31 with value: 0.048935889626871926.\n",
            "[I 2025-06-29 03:49:15,273] Trial 45 finished with value: 0.049277810688017454 and parameters: {'n_estimators': 350, 'learning_rate': 0.04679060186720487, 'max_depth': 3, 'num_leaves': 89, 'min_child_samples': 44, 'subsample': 0.85, 'colsample_bytree': 0.75, 'reg_alpha': 2.4132929232300195e-05, 'reg_lambda': 5.176942295697565e-07}. Best is trial 31 with value: 0.048935889626871926.\n",
            "[I 2025-06-29 03:49:20,563] Trial 46 finished with value: 0.04932766181311008 and parameters: {'n_estimators': 450, 'learning_rate': 0.08741848947905208, 'max_depth': 4, 'num_leaves': 76, 'min_child_samples': 50, 'subsample': 0.75, 'colsample_bytree': 0.75, 'reg_alpha': 3.523955489169254e-06, 'reg_lambda': 2.496151711948073e-08}. Best is trial 31 with value: 0.048935889626871926.\n",
            "[I 2025-06-29 03:49:22,031] Trial 47 finished with value: 0.04981275073496765 and parameters: {'n_estimators': 100, 'learning_rate': 0.06316681187534523, 'max_depth': 5, 'num_leaves': 95, 'min_child_samples': 48, 'subsample': 0.85, 'colsample_bytree': 0.85, 'reg_alpha': 0.00017080856281798153, 'reg_lambda': 4.790453302626885e-06}. Best is trial 31 with value: 0.048935889626871926.\n",
            "[I 2025-06-29 03:49:27,340] Trial 48 finished with value: 0.04988842734063197 and parameters: {'n_estimators': 350, 'learning_rate': 0.07554951155247015, 'max_depth': 7, 'num_leaves': 65, 'min_child_samples': 40, 'subsample': 0.8, 'colsample_bytree': 0.9, 'reg_alpha': 3.2873204054364465e-05, 'reg_lambda': 0.016021447939241755}. Best is trial 31 with value: 0.048935889626871926.\n",
            "[I 2025-06-29 03:49:28,965] Trial 49 finished with value: 0.049154283234731484 and parameters: {'n_estimators': 250, 'learning_rate': 0.09979118887834444, 'max_depth': 3, 'num_leaves': 77, 'min_child_samples': 34, 'subsample': 0.85, 'colsample_bytree': 0.85, 'reg_alpha': 0.0005949307447162238, 'reg_lambda': 1.2239936641626955e-06}. Best is trial 31 with value: 0.048935889626871926.\n"
          ]
        },
        {
          "output_type": "stream",
          "name": "stdout",
          "text": [
            "\n",
            "探索が完了しました。\n",
            "最良スコア (検証MAE): 0.048935889626871926\n",
            "最良のハイパーパラメータ:\n",
            "  n_estimators: 450\n",
            "  learning_rate: 0.057586022732126506\n",
            "  max_depth: 3\n",
            "  num_leaves: 113\n",
            "  min_child_samples: 45\n",
            "  subsample: 0.85\n",
            "  colsample_bytree: 0.9\n",
            "  reg_alpha: 5.795867476518175e-06\n",
            "  reg_lambda: 0.0724180494365362\n",
            "\n",
            "--------------------------- 可視化結果 ------------------------------\n"
          ]
        },
        {
          "output_type": "display_data",
          "data": {
            "text/html": [
              "<html>\n",
              "<head><meta charset=\"utf-8\" /></head>\n",
              "<body>\n",
              "    <div>            <script src=\"https://cdnjs.cloudflare.com/ajax/libs/mathjax/2.7.5/MathJax.js?config=TeX-AMS-MML_SVG\"></script><script type=\"text/javascript\">if (window.MathJax && window.MathJax.Hub && window.MathJax.Hub.Config) {window.MathJax.Hub.Config({SVG: {font: \"STIX-Web\"}});}</script>                <script type=\"text/javascript\">window.PlotlyConfig = {MathJaxConfig: 'local'};</script>\n",
              "        <script charset=\"utf-8\" src=\"https://cdn.plot.ly/plotly-2.35.2.min.js\"></script>                <div id=\"fb59a3b2-6b02-4102-bb8c-4f929350723b\" class=\"plotly-graph-div\" style=\"height:525px; width:100%;\"></div>            <script type=\"text/javascript\">                                    window.PLOTLYENV=window.PLOTLYENV || {};                                    if (document.getElementById(\"fb59a3b2-6b02-4102-bb8c-4f929350723b\")) {                    Plotly.newPlot(                        \"fb59a3b2-6b02-4102-bb8c-4f929350723b\",                        [{\"mode\":\"markers\",\"name\":\"Objective Value\",\"x\":[0,1,2,3,4,5,6,7,8,9,10,11,12,13,14,15,16,17,18,19,20,21,22,23,24,25,26,27,28,29,30,31,32,33,34,35,36,37,38,39,40,41,42,43,44,45,46,47,48,49],\"y\":[0.04923020373506031,0.049251580940025096,0.04991863103552537,0.049843270347683745,0.050185924249858765,0.05007583529319079,0.049678301266484974,0.049662817899328096,0.05669293523895303,0.04946518010120715,0.04911517191238471,0.049178552156263246,0.04935183008446179,0.04946275473834159,0.049310374819869725,0.0492931469209381,0.050240658419044605,0.04944631080334793,0.04999329976986269,0.049021512151717996,0.049285495809533036,0.04922578443941941,0.049155486067067336,0.049313517078072265,0.04934701344284495,0.04909150027774981,0.04922175441419275,0.04913797196940258,0.05000495407975996,0.049001122872789925,0.04955891379120898,0.048935889626871926,0.04911420995409527,0.049290160074730964,0.04912165389399393,0.04923717568820278,0.04900322840191574,0.04956951908936097,0.049117427148189736,0.04933995932224946,0.050190005861358744,0.049070409050597286,0.04903688252256167,0.04902368432970807,0.04935352278538031,0.049277810688017454,0.04932766181311008,0.04981275073496765,0.04988842734063197,0.049154283234731484],\"type\":\"scatter\"},{\"mode\":\"lines\",\"name\":\"Best Value\",\"x\":[0,1,2,3,4,5,6,7,8,9,10,11,12,13,14,15,16,17,18,19,20,21,22,23,24,25,26,27,28,29,30,31,32,33,34,35,36,37,38,39,40,41,42,43,44,45,46,47,48,49],\"y\":[0.04923020373506031,0.04923020373506031,0.04923020373506031,0.04923020373506031,0.04923020373506031,0.04923020373506031,0.04923020373506031,0.04923020373506031,0.04923020373506031,0.04923020373506031,0.04911517191238471,0.04911517191238471,0.04911517191238471,0.04911517191238471,0.04911517191238471,0.04911517191238471,0.04911517191238471,0.04911517191238471,0.04911517191238471,0.049021512151717996,0.049021512151717996,0.049021512151717996,0.049021512151717996,0.049021512151717996,0.049021512151717996,0.049021512151717996,0.049021512151717996,0.049021512151717996,0.049021512151717996,0.049001122872789925,0.049001122872789925,0.048935889626871926,0.048935889626871926,0.048935889626871926,0.048935889626871926,0.048935889626871926,0.048935889626871926,0.048935889626871926,0.048935889626871926,0.048935889626871926,0.048935889626871926,0.048935889626871926,0.048935889626871926,0.048935889626871926,0.048935889626871926,0.048935889626871926,0.048935889626871926,0.048935889626871926,0.048935889626871926,0.048935889626871926],\"type\":\"scatter\"},{\"marker\":{\"color\":\"#cccccc\"},\"mode\":\"markers\",\"name\":\"Infeasible Trial\",\"showlegend\":false,\"x\":[],\"y\":[],\"type\":\"scatter\"}],                        {\"title\":{\"text\":\"Optimization History Plot\"},\"xaxis\":{\"title\":{\"text\":\"Trial\"}},\"yaxis\":{\"title\":{\"text\":\"Objective Value\"}},\"template\":{\"data\":{\"histogram2dcontour\":[{\"type\":\"histogram2dcontour\",\"colorbar\":{\"outlinewidth\":0,\"ticks\":\"\"},\"colorscale\":[[0.0,\"#0d0887\"],[0.1111111111111111,\"#46039f\"],[0.2222222222222222,\"#7201a8\"],[0.3333333333333333,\"#9c179e\"],[0.4444444444444444,\"#bd3786\"],[0.5555555555555556,\"#d8576b\"],[0.6666666666666666,\"#ed7953\"],[0.7777777777777778,\"#fb9f3a\"],[0.8888888888888888,\"#fdca26\"],[1.0,\"#f0f921\"]]}],\"choropleth\":[{\"type\":\"choropleth\",\"colorbar\":{\"outlinewidth\":0,\"ticks\":\"\"}}],\"histogram2d\":[{\"type\":\"histogram2d\",\"colorbar\":{\"outlinewidth\":0,\"ticks\":\"\"},\"colorscale\":[[0.0,\"#0d0887\"],[0.1111111111111111,\"#46039f\"],[0.2222222222222222,\"#7201a8\"],[0.3333333333333333,\"#9c179e\"],[0.4444444444444444,\"#bd3786\"],[0.5555555555555556,\"#d8576b\"],[0.6666666666666666,\"#ed7953\"],[0.7777777777777778,\"#fb9f3a\"],[0.8888888888888888,\"#fdca26\"],[1.0,\"#f0f921\"]]}],\"heatmap\":[{\"type\":\"heatmap\",\"colorbar\":{\"outlinewidth\":0,\"ticks\":\"\"},\"colorscale\":[[0.0,\"#0d0887\"],[0.1111111111111111,\"#46039f\"],[0.2222222222222222,\"#7201a8\"],[0.3333333333333333,\"#9c179e\"],[0.4444444444444444,\"#bd3786\"],[0.5555555555555556,\"#d8576b\"],[0.6666666666666666,\"#ed7953\"],[0.7777777777777778,\"#fb9f3a\"],[0.8888888888888888,\"#fdca26\"],[1.0,\"#f0f921\"]]}],\"heatmapgl\":[{\"type\":\"heatmapgl\",\"colorbar\":{\"outlinewidth\":0,\"ticks\":\"\"},\"colorscale\":[[0.0,\"#0d0887\"],[0.1111111111111111,\"#46039f\"],[0.2222222222222222,\"#7201a8\"],[0.3333333333333333,\"#9c179e\"],[0.4444444444444444,\"#bd3786\"],[0.5555555555555556,\"#d8576b\"],[0.6666666666666666,\"#ed7953\"],[0.7777777777777778,\"#fb9f3a\"],[0.8888888888888888,\"#fdca26\"],[1.0,\"#f0f921\"]]}],\"contourcarpet\":[{\"type\":\"contourcarpet\",\"colorbar\":{\"outlinewidth\":0,\"ticks\":\"\"}}],\"contour\":[{\"type\":\"contour\",\"colorbar\":{\"outlinewidth\":0,\"ticks\":\"\"},\"colorscale\":[[0.0,\"#0d0887\"],[0.1111111111111111,\"#46039f\"],[0.2222222222222222,\"#7201a8\"],[0.3333333333333333,\"#9c179e\"],[0.4444444444444444,\"#bd3786\"],[0.5555555555555556,\"#d8576b\"],[0.6666666666666666,\"#ed7953\"],[0.7777777777777778,\"#fb9f3a\"],[0.8888888888888888,\"#fdca26\"],[1.0,\"#f0f921\"]]}],\"surface\":[{\"type\":\"surface\",\"colorbar\":{\"outlinewidth\":0,\"ticks\":\"\"},\"colorscale\":[[0.0,\"#0d0887\"],[0.1111111111111111,\"#46039f\"],[0.2222222222222222,\"#7201a8\"],[0.3333333333333333,\"#9c179e\"],[0.4444444444444444,\"#bd3786\"],[0.5555555555555556,\"#d8576b\"],[0.6666666666666666,\"#ed7953\"],[0.7777777777777778,\"#fb9f3a\"],[0.8888888888888888,\"#fdca26\"],[1.0,\"#f0f921\"]]}],\"mesh3d\":[{\"type\":\"mesh3d\",\"colorbar\":{\"outlinewidth\":0,\"ticks\":\"\"}}],\"scatter\":[{\"fillpattern\":{\"fillmode\":\"overlay\",\"size\":10,\"solidity\":0.2},\"type\":\"scatter\"}],\"parcoords\":[{\"type\":\"parcoords\",\"line\":{\"colorbar\":{\"outlinewidth\":0,\"ticks\":\"\"}}}],\"scatterpolargl\":[{\"type\":\"scatterpolargl\",\"marker\":{\"colorbar\":{\"outlinewidth\":0,\"ticks\":\"\"}}}],\"bar\":[{\"error_x\":{\"color\":\"#2a3f5f\"},\"error_y\":{\"color\":\"#2a3f5f\"},\"marker\":{\"line\":{\"color\":\"#E5ECF6\",\"width\":0.5},\"pattern\":{\"fillmode\":\"overlay\",\"size\":10,\"solidity\":0.2}},\"type\":\"bar\"}],\"scattergeo\":[{\"type\":\"scattergeo\",\"marker\":{\"colorbar\":{\"outlinewidth\":0,\"ticks\":\"\"}}}],\"scatterpolar\":[{\"type\":\"scatterpolar\",\"marker\":{\"colorbar\":{\"outlinewidth\":0,\"ticks\":\"\"}}}],\"histogram\":[{\"marker\":{\"pattern\":{\"fillmode\":\"overlay\",\"size\":10,\"solidity\":0.2}},\"type\":\"histogram\"}],\"scattergl\":[{\"type\":\"scattergl\",\"marker\":{\"colorbar\":{\"outlinewidth\":0,\"ticks\":\"\"}}}],\"scatter3d\":[{\"type\":\"scatter3d\",\"line\":{\"colorbar\":{\"outlinewidth\":0,\"ticks\":\"\"}},\"marker\":{\"colorbar\":{\"outlinewidth\":0,\"ticks\":\"\"}}}],\"scattermapbox\":[{\"type\":\"scattermapbox\",\"marker\":{\"colorbar\":{\"outlinewidth\":0,\"ticks\":\"\"}}}],\"scatterternary\":[{\"type\":\"scatterternary\",\"marker\":{\"colorbar\":{\"outlinewidth\":0,\"ticks\":\"\"}}}],\"scattercarpet\":[{\"type\":\"scattercarpet\",\"marker\":{\"colorbar\":{\"outlinewidth\":0,\"ticks\":\"\"}}}],\"carpet\":[{\"aaxis\":{\"endlinecolor\":\"#2a3f5f\",\"gridcolor\":\"white\",\"linecolor\":\"white\",\"minorgridcolor\":\"white\",\"startlinecolor\":\"#2a3f5f\"},\"baxis\":{\"endlinecolor\":\"#2a3f5f\",\"gridcolor\":\"white\",\"linecolor\":\"white\",\"minorgridcolor\":\"white\",\"startlinecolor\":\"#2a3f5f\"},\"type\":\"carpet\"}],\"table\":[{\"cells\":{\"fill\":{\"color\":\"#EBF0F8\"},\"line\":{\"color\":\"white\"}},\"header\":{\"fill\":{\"color\":\"#C8D4E3\"},\"line\":{\"color\":\"white\"}},\"type\":\"table\"}],\"barpolar\":[{\"marker\":{\"line\":{\"color\":\"#E5ECF6\",\"width\":0.5},\"pattern\":{\"fillmode\":\"overlay\",\"size\":10,\"solidity\":0.2}},\"type\":\"barpolar\"}],\"pie\":[{\"automargin\":true,\"type\":\"pie\"}]},\"layout\":{\"autotypenumbers\":\"strict\",\"colorway\":[\"#636efa\",\"#EF553B\",\"#00cc96\",\"#ab63fa\",\"#FFA15A\",\"#19d3f3\",\"#FF6692\",\"#B6E880\",\"#FF97FF\",\"#FECB52\"],\"font\":{\"color\":\"#2a3f5f\"},\"hovermode\":\"closest\",\"hoverlabel\":{\"align\":\"left\"},\"paper_bgcolor\":\"white\",\"plot_bgcolor\":\"#E5ECF6\",\"polar\":{\"bgcolor\":\"#E5ECF6\",\"angularaxis\":{\"gridcolor\":\"white\",\"linecolor\":\"white\",\"ticks\":\"\"},\"radialaxis\":{\"gridcolor\":\"white\",\"linecolor\":\"white\",\"ticks\":\"\"}},\"ternary\":{\"bgcolor\":\"#E5ECF6\",\"aaxis\":{\"gridcolor\":\"white\",\"linecolor\":\"white\",\"ticks\":\"\"},\"baxis\":{\"gridcolor\":\"white\",\"linecolor\":\"white\",\"ticks\":\"\"},\"caxis\":{\"gridcolor\":\"white\",\"linecolor\":\"white\",\"ticks\":\"\"}},\"coloraxis\":{\"colorbar\":{\"outlinewidth\":0,\"ticks\":\"\"}},\"colorscale\":{\"sequential\":[[0.0,\"#0d0887\"],[0.1111111111111111,\"#46039f\"],[0.2222222222222222,\"#7201a8\"],[0.3333333333333333,\"#9c179e\"],[0.4444444444444444,\"#bd3786\"],[0.5555555555555556,\"#d8576b\"],[0.6666666666666666,\"#ed7953\"],[0.7777777777777778,\"#fb9f3a\"],[0.8888888888888888,\"#fdca26\"],[1.0,\"#f0f921\"]],\"sequentialminus\":[[0.0,\"#0d0887\"],[0.1111111111111111,\"#46039f\"],[0.2222222222222222,\"#7201a8\"],[0.3333333333333333,\"#9c179e\"],[0.4444444444444444,\"#bd3786\"],[0.5555555555555556,\"#d8576b\"],[0.6666666666666666,\"#ed7953\"],[0.7777777777777778,\"#fb9f3a\"],[0.8888888888888888,\"#fdca26\"],[1.0,\"#f0f921\"]],\"diverging\":[[0,\"#8e0152\"],[0.1,\"#c51b7d\"],[0.2,\"#de77ae\"],[0.3,\"#f1b6da\"],[0.4,\"#fde0ef\"],[0.5,\"#f7f7f7\"],[0.6,\"#e6f5d0\"],[0.7,\"#b8e186\"],[0.8,\"#7fbc41\"],[0.9,\"#4d9221\"],[1,\"#276419\"]]},\"xaxis\":{\"gridcolor\":\"white\",\"linecolor\":\"white\",\"ticks\":\"\",\"title\":{\"standoff\":15},\"zerolinecolor\":\"white\",\"automargin\":true,\"zerolinewidth\":2},\"yaxis\":{\"gridcolor\":\"white\",\"linecolor\":\"white\",\"ticks\":\"\",\"title\":{\"standoff\":15},\"zerolinecolor\":\"white\",\"automargin\":true,\"zerolinewidth\":2},\"scene\":{\"xaxis\":{\"backgroundcolor\":\"#E5ECF6\",\"gridcolor\":\"white\",\"linecolor\":\"white\",\"showbackground\":true,\"ticks\":\"\",\"zerolinecolor\":\"white\",\"gridwidth\":2},\"yaxis\":{\"backgroundcolor\":\"#E5ECF6\",\"gridcolor\":\"white\",\"linecolor\":\"white\",\"showbackground\":true,\"ticks\":\"\",\"zerolinecolor\":\"white\",\"gridwidth\":2},\"zaxis\":{\"backgroundcolor\":\"#E5ECF6\",\"gridcolor\":\"white\",\"linecolor\":\"white\",\"showbackground\":true,\"ticks\":\"\",\"zerolinecolor\":\"white\",\"gridwidth\":2}},\"shapedefaults\":{\"line\":{\"color\":\"#2a3f5f\"}},\"annotationdefaults\":{\"arrowcolor\":\"#2a3f5f\",\"arrowhead\":0,\"arrowwidth\":1},\"geo\":{\"bgcolor\":\"white\",\"landcolor\":\"#E5ECF6\",\"subunitcolor\":\"white\",\"showland\":true,\"showlakes\":true,\"lakecolor\":\"white\"},\"title\":{\"x\":0.05},\"mapbox\":{\"style\":\"light\"}}}},                        {\"responsive\": true}                    ).then(function(){\n",
              "                            \n",
              "var gd = document.getElementById('fb59a3b2-6b02-4102-bb8c-4f929350723b');\n",
              "var x = new MutationObserver(function (mutations, observer) {{\n",
              "        var display = window.getComputedStyle(gd).display;\n",
              "        if (!display || display === 'none') {{\n",
              "            console.log([gd, 'removed!']);\n",
              "            Plotly.purge(gd);\n",
              "            observer.disconnect();\n",
              "        }}\n",
              "}});\n",
              "\n",
              "// Listen for the removal of the full notebook cells\n",
              "var notebookContainer = gd.closest('#notebook-container');\n",
              "if (notebookContainer) {{\n",
              "    x.observe(notebookContainer, {childList: true});\n",
              "}}\n",
              "\n",
              "// Listen for the clearing of the current output cell\n",
              "var outputEl = gd.closest('.output');\n",
              "if (outputEl) {{\n",
              "    x.observe(outputEl, {childList: true});\n",
              "}}\n",
              "\n",
              "                        })                };                            </script>        </div>\n",
              "</body>\n",
              "</html>"
            ]
          },
          "metadata": {}
        },
        {
          "output_type": "display_data",
          "data": {
            "text/html": [
              "<html>\n",
              "<head><meta charset=\"utf-8\" /></head>\n",
              "<body>\n",
              "    <div>            <script src=\"https://cdnjs.cloudflare.com/ajax/libs/mathjax/2.7.5/MathJax.js?config=TeX-AMS-MML_SVG\"></script><script type=\"text/javascript\">if (window.MathJax && window.MathJax.Hub && window.MathJax.Hub.Config) {window.MathJax.Hub.Config({SVG: {font: \"STIX-Web\"}});}</script>                <script type=\"text/javascript\">window.PlotlyConfig = {MathJaxConfig: 'local'};</script>\n",
              "        <script charset=\"utf-8\" src=\"https://cdn.plot.ly/plotly-2.35.2.min.js\"></script>                <div id=\"4ad3a357-bd65-47f8-80ad-2d5393af58ee\" class=\"plotly-graph-div\" style=\"height:525px; width:100%;\"></div>            <script type=\"text/javascript\">                                    window.PLOTLYENV=window.PLOTLYENV || {};                                    if (document.getElementById(\"4ad3a357-bd65-47f8-80ad-2d5393af58ee\")) {                    Plotly.newPlot(                        \"4ad3a357-bd65-47f8-80ad-2d5393af58ee\",                        [{\"cliponaxis\":false,\"hovertemplate\":[\"reg_lambda (FloatDistribution): 0.0019684921563434903\\u003cextra\\u003e\\u003c\\u002fextra\\u003e\",\"reg_alpha (FloatDistribution): 0.0025947083473457366\\u003cextra\\u003e\\u003c\\u002fextra\\u003e\",\"colsample_bytree (FloatDistribution): 0.013302605773024537\\u003cextra\\u003e\\u003c\\u002fextra\\u003e\",\"subsample (FloatDistribution): 0.02019986708583986\\u003cextra\\u003e\\u003c\\u002fextra\\u003e\",\"num_leaves (IntDistribution): 0.021429716840896004\\u003cextra\\u003e\\u003c\\u002fextra\\u003e\",\"min_child_samples (IntDistribution): 0.022971208466795418\\u003cextra\\u003e\\u003c\\u002fextra\\u003e\",\"n_estimators (IntDistribution): 0.21122927822225496\\u003cextra\\u003e\\u003c\\u002fextra\\u003e\",\"learning_rate (FloatDistribution): 0.2810104672640097\\u003cextra\\u003e\\u003c\\u002fextra\\u003e\",\"max_depth (IntDistribution): 0.42529365584349027\\u003cextra\\u003e\\u003c\\u002fextra\\u003e\"],\"name\":\"Objective Value\",\"orientation\":\"h\",\"text\":[\"\\u003c0.01\",\"\\u003c0.01\",\"0.01\",\"0.02\",\"0.02\",\"0.02\",\"0.21\",\"0.28\",\"0.43\"],\"textposition\":\"outside\",\"x\":[0.0019684921563434903,0.0025947083473457366,0.013302605773024537,0.02019986708583986,0.021429716840896004,0.022971208466795418,0.21122927822225496,0.2810104672640097,0.42529365584349027],\"y\":[\"reg_lambda\",\"reg_alpha\",\"colsample_bytree\",\"subsample\",\"num_leaves\",\"min_child_samples\",\"n_estimators\",\"learning_rate\",\"max_depth\"],\"type\":\"bar\"}],                        {\"title\":{\"text\":\"Hyperparameter Importances\"},\"xaxis\":{\"title\":{\"text\":\"Hyperparameter Importance\"}},\"yaxis\":{\"title\":{\"text\":\"Hyperparameter\"}},\"template\":{\"data\":{\"histogram2dcontour\":[{\"type\":\"histogram2dcontour\",\"colorbar\":{\"outlinewidth\":0,\"ticks\":\"\"},\"colorscale\":[[0.0,\"#0d0887\"],[0.1111111111111111,\"#46039f\"],[0.2222222222222222,\"#7201a8\"],[0.3333333333333333,\"#9c179e\"],[0.4444444444444444,\"#bd3786\"],[0.5555555555555556,\"#d8576b\"],[0.6666666666666666,\"#ed7953\"],[0.7777777777777778,\"#fb9f3a\"],[0.8888888888888888,\"#fdca26\"],[1.0,\"#f0f921\"]]}],\"choropleth\":[{\"type\":\"choropleth\",\"colorbar\":{\"outlinewidth\":0,\"ticks\":\"\"}}],\"histogram2d\":[{\"type\":\"histogram2d\",\"colorbar\":{\"outlinewidth\":0,\"ticks\":\"\"},\"colorscale\":[[0.0,\"#0d0887\"],[0.1111111111111111,\"#46039f\"],[0.2222222222222222,\"#7201a8\"],[0.3333333333333333,\"#9c179e\"],[0.4444444444444444,\"#bd3786\"],[0.5555555555555556,\"#d8576b\"],[0.6666666666666666,\"#ed7953\"],[0.7777777777777778,\"#fb9f3a\"],[0.8888888888888888,\"#fdca26\"],[1.0,\"#f0f921\"]]}],\"heatmap\":[{\"type\":\"heatmap\",\"colorbar\":{\"outlinewidth\":0,\"ticks\":\"\"},\"colorscale\":[[0.0,\"#0d0887\"],[0.1111111111111111,\"#46039f\"],[0.2222222222222222,\"#7201a8\"],[0.3333333333333333,\"#9c179e\"],[0.4444444444444444,\"#bd3786\"],[0.5555555555555556,\"#d8576b\"],[0.6666666666666666,\"#ed7953\"],[0.7777777777777778,\"#fb9f3a\"],[0.8888888888888888,\"#fdca26\"],[1.0,\"#f0f921\"]]}],\"heatmapgl\":[{\"type\":\"heatmapgl\",\"colorbar\":{\"outlinewidth\":0,\"ticks\":\"\"},\"colorscale\":[[0.0,\"#0d0887\"],[0.1111111111111111,\"#46039f\"],[0.2222222222222222,\"#7201a8\"],[0.3333333333333333,\"#9c179e\"],[0.4444444444444444,\"#bd3786\"],[0.5555555555555556,\"#d8576b\"],[0.6666666666666666,\"#ed7953\"],[0.7777777777777778,\"#fb9f3a\"],[0.8888888888888888,\"#fdca26\"],[1.0,\"#f0f921\"]]}],\"contourcarpet\":[{\"type\":\"contourcarpet\",\"colorbar\":{\"outlinewidth\":0,\"ticks\":\"\"}}],\"contour\":[{\"type\":\"contour\",\"colorbar\":{\"outlinewidth\":0,\"ticks\":\"\"},\"colorscale\":[[0.0,\"#0d0887\"],[0.1111111111111111,\"#46039f\"],[0.2222222222222222,\"#7201a8\"],[0.3333333333333333,\"#9c179e\"],[0.4444444444444444,\"#bd3786\"],[0.5555555555555556,\"#d8576b\"],[0.6666666666666666,\"#ed7953\"],[0.7777777777777778,\"#fb9f3a\"],[0.8888888888888888,\"#fdca26\"],[1.0,\"#f0f921\"]]}],\"surface\":[{\"type\":\"surface\",\"colorbar\":{\"outlinewidth\":0,\"ticks\":\"\"},\"colorscale\":[[0.0,\"#0d0887\"],[0.1111111111111111,\"#46039f\"],[0.2222222222222222,\"#7201a8\"],[0.3333333333333333,\"#9c179e\"],[0.4444444444444444,\"#bd3786\"],[0.5555555555555556,\"#d8576b\"],[0.6666666666666666,\"#ed7953\"],[0.7777777777777778,\"#fb9f3a\"],[0.8888888888888888,\"#fdca26\"],[1.0,\"#f0f921\"]]}],\"mesh3d\":[{\"type\":\"mesh3d\",\"colorbar\":{\"outlinewidth\":0,\"ticks\":\"\"}}],\"scatter\":[{\"fillpattern\":{\"fillmode\":\"overlay\",\"size\":10,\"solidity\":0.2},\"type\":\"scatter\"}],\"parcoords\":[{\"type\":\"parcoords\",\"line\":{\"colorbar\":{\"outlinewidth\":0,\"ticks\":\"\"}}}],\"scatterpolargl\":[{\"type\":\"scatterpolargl\",\"marker\":{\"colorbar\":{\"outlinewidth\":0,\"ticks\":\"\"}}}],\"bar\":[{\"error_x\":{\"color\":\"#2a3f5f\"},\"error_y\":{\"color\":\"#2a3f5f\"},\"marker\":{\"line\":{\"color\":\"#E5ECF6\",\"width\":0.5},\"pattern\":{\"fillmode\":\"overlay\",\"size\":10,\"solidity\":0.2}},\"type\":\"bar\"}],\"scattergeo\":[{\"type\":\"scattergeo\",\"marker\":{\"colorbar\":{\"outlinewidth\":0,\"ticks\":\"\"}}}],\"scatterpolar\":[{\"type\":\"scatterpolar\",\"marker\":{\"colorbar\":{\"outlinewidth\":0,\"ticks\":\"\"}}}],\"histogram\":[{\"marker\":{\"pattern\":{\"fillmode\":\"overlay\",\"size\":10,\"solidity\":0.2}},\"type\":\"histogram\"}],\"scattergl\":[{\"type\":\"scattergl\",\"marker\":{\"colorbar\":{\"outlinewidth\":0,\"ticks\":\"\"}}}],\"scatter3d\":[{\"type\":\"scatter3d\",\"line\":{\"colorbar\":{\"outlinewidth\":0,\"ticks\":\"\"}},\"marker\":{\"colorbar\":{\"outlinewidth\":0,\"ticks\":\"\"}}}],\"scattermapbox\":[{\"type\":\"scattermapbox\",\"marker\":{\"colorbar\":{\"outlinewidth\":0,\"ticks\":\"\"}}}],\"scatterternary\":[{\"type\":\"scatterternary\",\"marker\":{\"colorbar\":{\"outlinewidth\":0,\"ticks\":\"\"}}}],\"scattercarpet\":[{\"type\":\"scattercarpet\",\"marker\":{\"colorbar\":{\"outlinewidth\":0,\"ticks\":\"\"}}}],\"carpet\":[{\"aaxis\":{\"endlinecolor\":\"#2a3f5f\",\"gridcolor\":\"white\",\"linecolor\":\"white\",\"minorgridcolor\":\"white\",\"startlinecolor\":\"#2a3f5f\"},\"baxis\":{\"endlinecolor\":\"#2a3f5f\",\"gridcolor\":\"white\",\"linecolor\":\"white\",\"minorgridcolor\":\"white\",\"startlinecolor\":\"#2a3f5f\"},\"type\":\"carpet\"}],\"table\":[{\"cells\":{\"fill\":{\"color\":\"#EBF0F8\"},\"line\":{\"color\":\"white\"}},\"header\":{\"fill\":{\"color\":\"#C8D4E3\"},\"line\":{\"color\":\"white\"}},\"type\":\"table\"}],\"barpolar\":[{\"marker\":{\"line\":{\"color\":\"#E5ECF6\",\"width\":0.5},\"pattern\":{\"fillmode\":\"overlay\",\"size\":10,\"solidity\":0.2}},\"type\":\"barpolar\"}],\"pie\":[{\"automargin\":true,\"type\":\"pie\"}]},\"layout\":{\"autotypenumbers\":\"strict\",\"colorway\":[\"#636efa\",\"#EF553B\",\"#00cc96\",\"#ab63fa\",\"#FFA15A\",\"#19d3f3\",\"#FF6692\",\"#B6E880\",\"#FF97FF\",\"#FECB52\"],\"font\":{\"color\":\"#2a3f5f\"},\"hovermode\":\"closest\",\"hoverlabel\":{\"align\":\"left\"},\"paper_bgcolor\":\"white\",\"plot_bgcolor\":\"#E5ECF6\",\"polar\":{\"bgcolor\":\"#E5ECF6\",\"angularaxis\":{\"gridcolor\":\"white\",\"linecolor\":\"white\",\"ticks\":\"\"},\"radialaxis\":{\"gridcolor\":\"white\",\"linecolor\":\"white\",\"ticks\":\"\"}},\"ternary\":{\"bgcolor\":\"#E5ECF6\",\"aaxis\":{\"gridcolor\":\"white\",\"linecolor\":\"white\",\"ticks\":\"\"},\"baxis\":{\"gridcolor\":\"white\",\"linecolor\":\"white\",\"ticks\":\"\"},\"caxis\":{\"gridcolor\":\"white\",\"linecolor\":\"white\",\"ticks\":\"\"}},\"coloraxis\":{\"colorbar\":{\"outlinewidth\":0,\"ticks\":\"\"}},\"colorscale\":{\"sequential\":[[0.0,\"#0d0887\"],[0.1111111111111111,\"#46039f\"],[0.2222222222222222,\"#7201a8\"],[0.3333333333333333,\"#9c179e\"],[0.4444444444444444,\"#bd3786\"],[0.5555555555555556,\"#d8576b\"],[0.6666666666666666,\"#ed7953\"],[0.7777777777777778,\"#fb9f3a\"],[0.8888888888888888,\"#fdca26\"],[1.0,\"#f0f921\"]],\"sequentialminus\":[[0.0,\"#0d0887\"],[0.1111111111111111,\"#46039f\"],[0.2222222222222222,\"#7201a8\"],[0.3333333333333333,\"#9c179e\"],[0.4444444444444444,\"#bd3786\"],[0.5555555555555556,\"#d8576b\"],[0.6666666666666666,\"#ed7953\"],[0.7777777777777778,\"#fb9f3a\"],[0.8888888888888888,\"#fdca26\"],[1.0,\"#f0f921\"]],\"diverging\":[[0,\"#8e0152\"],[0.1,\"#c51b7d\"],[0.2,\"#de77ae\"],[0.3,\"#f1b6da\"],[0.4,\"#fde0ef\"],[0.5,\"#f7f7f7\"],[0.6,\"#e6f5d0\"],[0.7,\"#b8e186\"],[0.8,\"#7fbc41\"],[0.9,\"#4d9221\"],[1,\"#276419\"]]},\"xaxis\":{\"gridcolor\":\"white\",\"linecolor\":\"white\",\"ticks\":\"\",\"title\":{\"standoff\":15},\"zerolinecolor\":\"white\",\"automargin\":true,\"zerolinewidth\":2},\"yaxis\":{\"gridcolor\":\"white\",\"linecolor\":\"white\",\"ticks\":\"\",\"title\":{\"standoff\":15},\"zerolinecolor\":\"white\",\"automargin\":true,\"zerolinewidth\":2},\"scene\":{\"xaxis\":{\"backgroundcolor\":\"#E5ECF6\",\"gridcolor\":\"white\",\"linecolor\":\"white\",\"showbackground\":true,\"ticks\":\"\",\"zerolinecolor\":\"white\",\"gridwidth\":2},\"yaxis\":{\"backgroundcolor\":\"#E5ECF6\",\"gridcolor\":\"white\",\"linecolor\":\"white\",\"showbackground\":true,\"ticks\":\"\",\"zerolinecolor\":\"white\",\"gridwidth\":2},\"zaxis\":{\"backgroundcolor\":\"#E5ECF6\",\"gridcolor\":\"white\",\"linecolor\":\"white\",\"showbackground\":true,\"ticks\":\"\",\"zerolinecolor\":\"white\",\"gridwidth\":2}},\"shapedefaults\":{\"line\":{\"color\":\"#2a3f5f\"}},\"annotationdefaults\":{\"arrowcolor\":\"#2a3f5f\",\"arrowhead\":0,\"arrowwidth\":1},\"geo\":{\"bgcolor\":\"white\",\"landcolor\":\"#E5ECF6\",\"subunitcolor\":\"white\",\"showland\":true,\"showlakes\":true,\"lakecolor\":\"white\"},\"title\":{\"x\":0.05},\"mapbox\":{\"style\":\"light\"}}}},                        {\"responsive\": true}                    ).then(function(){\n",
              "                            \n",
              "var gd = document.getElementById('4ad3a357-bd65-47f8-80ad-2d5393af58ee');\n",
              "var x = new MutationObserver(function (mutations, observer) {{\n",
              "        var display = window.getComputedStyle(gd).display;\n",
              "        if (!display || display === 'none') {{\n",
              "            console.log([gd, 'removed!']);\n",
              "            Plotly.purge(gd);\n",
              "            observer.disconnect();\n",
              "        }}\n",
              "}});\n",
              "\n",
              "// Listen for the removal of the full notebook cells\n",
              "var notebookContainer = gd.closest('#notebook-container');\n",
              "if (notebookContainer) {{\n",
              "    x.observe(notebookContainer, {childList: true});\n",
              "}}\n",
              "\n",
              "// Listen for the clearing of the current output cell\n",
              "var outputEl = gd.closest('.output');\n",
              "if (outputEl) {{\n",
              "    x.observe(outputEl, {childList: true});\n",
              "}}\n",
              "\n",
              "                        })                };                            </script>        </div>\n",
              "</body>\n",
              "</html>"
            ]
          },
          "metadata": {}
        }
      ]
    },
    {
      "cell_type": "markdown",
      "source": [
        "# 最良パラメータで再学習＆評価"
      ],
      "metadata": {
        "id": "kHRmS98ToK5U"
      }
    },
    {
      "cell_type": "code",
      "source": [
        "print(\"--- ステップ4: 最終モデルの訓練と評価を開始します ---\")\n",
        "\n",
        "# 1. Optunaで見つけた最良のハイパーパラメータを取得します\n",
        "best_params = study.best_params  # ディクショナリ\n",
        "print(\"\\n取得した最良のハイパーパラメータ:\")\n",
        "print(best_params)\n",
        "\n",
        "# 2. LightGBMの固定パラメータと合体（metricやobjective、random_state等は明示的に追加！）\n",
        "final_model_params = {\n",
        "    'objective': 'regression_l1',\n",
        "    'metric': 'mae',\n",
        "    'random_state': 42,\n",
        "    'n_jobs': -1,\n",
        "    'verbose': -1\n",
        "}\n",
        "final_model_params.update(best_params)  # best_paramsの内容で上書き\n",
        "\n",
        "# 3. モデル再学習\n",
        "final_model = lgb.LGBMRegressor(**final_model_params)\n",
        "final_model.fit(x_train,y_train)\n",
        "\n",
        "# 4. テストデータで予測＆評価\n",
        "final_pred = final_model.predict(x_test)\n",
        "final_mae = mean_absolute_error(y_test, final_pred)\n",
        "\n",
        "print(\"\\n--- 再学習したモデルの評価結果 ---\")\n",
        "print(f\"最終MAE: {final_mae:.6f}\")"
      ],
      "metadata": {
        "colab": {
          "base_uri": "https://localhost:8080/"
        },
        "id": "xlQ_Pxdjun6h",
        "outputId": "bef3fbe9-5e17-4e50-f45f-9fca634e0d0d"
      },
      "execution_count": 27,
      "outputs": [
        {
          "output_type": "stream",
          "name": "stdout",
          "text": [
            "--- ステップ4: 最終モデルの訓練と評価を開始します ---\n",
            "\n",
            "取得した最良のハイパーパラメータ:\n",
            "{'n_estimators': 450, 'learning_rate': 0.057586022732126506, 'max_depth': 3, 'num_leaves': 113, 'min_child_samples': 45, 'subsample': 0.85, 'colsample_bytree': 0.9, 'reg_alpha': 5.795867476518175e-06, 'reg_lambda': 0.0724180494365362}\n",
            "\n",
            "--- 再学習したモデルの評価結果 ---\n",
            "最終MAE: 0.048936\n"
          ]
        }
      ]
    }
  ]
}